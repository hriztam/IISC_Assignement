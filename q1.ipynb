{
  "cells": [
    {
      "cell_type": "code",
      "execution_count": 1,
      "metadata": {
        "colab": {
          "base_uri": "https://localhost:8080/"
        },
        "id": "_y5VHTHJnRkn",
        "outputId": "ffb0ff40-ab53-44f9-880a-3b5c244a2f41"
      },
      "outputs": [
        {
          "name": "stdout",
          "output_type": "stream",
          "text": [
            "Using device: cuda\n"
          ]
        }
      ],
      "source": [
        "#@title 1. Setup and Imports\n",
        "# Vision Transformer (ViT) Implementation for CIFAR-10\n",
        "# Based on \"An Image is Worth 16x16 Words\" (Dosovskiy et al., 2021)\n",
        "\n",
        "import torch\n",
        "import torch.nn as nn\n",
        "import torch.optim as optim\n",
        "import torch.nn.functional as F\n",
        "from torch.utils.data import DataLoader\n",
        "import torchvision\n",
        "import torchvision.transforms as transforms\n",
        "import numpy as np\n",
        "import matplotlib.pyplot as plt\n",
        "from tqdm import tqdm\n",
        "import math\n",
        "from einops import rearrange, repeat\n",
        "from einops.layers.torch import Rearrange\n",
        "import warnings\n",
        "warnings.filterwarnings('ignore')\n",
        "\n",
        "# Set device\n",
        "device = torch.device('cuda' if torch.cuda.is_available() else 'cpu')\n",
        "print(f\"Using device: {device}\")"
      ]
    },
    {
      "cell_type": "code",
      "execution_count": 2,
      "metadata": {
        "colab": {
          "base_uri": "https://localhost:8080/"
        },
        "id": "oHuapakjnozW",
        "outputId": "8840cf7c-0962-4fc7-f4f8-630675d7a3d1"
      },
      "outputs": [
        {
          "name": "stdout",
          "output_type": "stream",
          "text": [
            "============================================================\n",
            "STEP 1: PREPARING CIFAR-10 DATASET\n",
            "============================================================\n"
          ]
        },
        {
          "name": "stderr",
          "output_type": "stream",
          "text": [
            "100%|██████████| 170M/170M [00:04<00:00, 37.5MB/s]\n"
          ]
        },
        {
          "name": "stdout",
          "output_type": "stream",
          "text": [
            "Training samples: 50000\n",
            "Test samples: 10000\n",
            "Number of classes: 10\n",
            "Batch size: 128\n"
          ]
        }
      ],
      "source": [
        "#@title 2. Data Preparation and Loading\n",
        "print(\"=\"*60)\n",
        "print(\"STEP 1: PREPARING CIFAR-10 DATASET\")\n",
        "print(\"=\"*60)\n",
        "\n",
        "# Data augmentation and normalization\n",
        "# CIFAR-10 statistics for normalization\n",
        "CIFAR10_MEAN = (0.4914, 0.4822, 0.4465)\n",
        "CIFAR10_STD = (0.2470, 0.2435, 0.2616)\n",
        "\n",
        "# Training transforms with augmentation\n",
        "transform_train = transforms.Compose([\n",
        "    transforms.RandomCrop(32, padding=4),\n",
        "    transforms.RandomHorizontalFlip(),\n",
        "    transforms.ToTensor(),\n",
        "    transforms.Normalize(CIFAR10_MEAN, CIFAR10_STD)\n",
        "])\n",
        "\n",
        "# Test transforms (no augmentation)\n",
        "transform_test = transforms.Compose([\n",
        "    transforms.ToTensor(),\n",
        "    transforms.Normalize(CIFAR10_MEAN, CIFAR10_STD)\n",
        "])\n",
        "\n",
        "# Load datasets\n",
        "trainset = torchvision.datasets.CIFAR10(\n",
        "    root='./data', train=True, download=True, transform=transform_train\n",
        ")\n",
        "testset = torchvision.datasets.CIFAR10(\n",
        "    root='./data', train=False, download=True, transform=transform_test\n",
        ")\n",
        "\n",
        "# Create data loaders\n",
        "batch_size = 128\n",
        "trainloader = DataLoader(trainset, batch_size=batch_size, shuffle=True, num_workers=2)\n",
        "testloader = DataLoader(testset, batch_size=batch_size, shuffle=False, num_workers=2)\n",
        "\n",
        "# Classes in CIFAR-10\n",
        "classes = ('plane', 'car', 'bird', 'cat', 'deer', 'dog', 'frog', 'horse', 'ship', 'truck')\n",
        "\n",
        "print(f\"Training samples: {len(trainset)}\")\n",
        "print(f\"Test samples: {len(testset)}\")\n",
        "print(f\"Number of classes: {len(classes)}\")\n",
        "print(f\"Batch size: {batch_size}\")"
      ]
    },
    {
      "cell_type": "code",
      "execution_count": 3,
      "metadata": {
        "colab": {
          "base_uri": "https://localhost:8080/"
        },
        "id": "dc3rAj8InsX2",
        "outputId": "ee6c1ddc-0ed2-4d1d-df84-527dfb60b814"
      },
      "outputs": [
        {
          "name": "stdout",
          "output_type": "stream",
          "text": [
            "============================================================\n",
            "STEP 2: BUILDING VISION TRANSFORMER COMPONENTS\n",
            "============================================================\n",
            "ViT components defined: PatchEmbedding, MultiHeadSelfAttention, MLP, TransformerEncoderBlock\n"
          ]
        }
      ],
      "source": [
        "#@title 3. Vision Transformer Components\n",
        "print(\"=\"*60)\n",
        "print(\"STEP 2: BUILDING VISION TRANSFORMER COMPONENTS\")\n",
        "print(\"=\"*60)\n",
        "\n",
        "class PatchEmbedding(nn.Module):\n",
        "    \"\"\"\n",
        "    Split image into patches and embed them.\n",
        "\n",
        "    Parameters:\n",
        "    - img_size: Size of the input image (assumed square)\n",
        "    - patch_size: Size of each patch (assumed square)\n",
        "    - in_channels: Number of input channels (3 for RGB)\n",
        "    - embed_dim: Dimension of patch embeddings\n",
        "    \"\"\"\n",
        "    def __init__(self, img_size=32, patch_size=4, in_channels=3, embed_dim=192):\n",
        "        super().__init__()\n",
        "        self.img_size = img_size\n",
        "        self.patch_size = patch_size\n",
        "        self.num_patches = (img_size // patch_size) ** 2\n",
        "        self.patch_dim = in_channels * patch_size * patch_size\n",
        "\n",
        "        # Linear projection of flattened patches\n",
        "        self.projection = nn.Sequential(\n",
        "            Rearrange('b c (h p1) (w p2) -> b (h w) (p1 p2 c)',\n",
        "                      p1=patch_size, p2=patch_size),\n",
        "            nn.Linear(self.patch_dim, embed_dim)\n",
        "        )\n",
        "\n",
        "    def forward(self, x):\n",
        "        x = self.projection(x)\n",
        "        return x\n",
        "\n",
        "class MultiHeadSelfAttention(nn.Module):\n",
        "    \"\"\"\n",
        "    Multi-Head Self Attention module.\n",
        "    \"\"\"\n",
        "    def __init__(self, embed_dim, num_heads=6, dropout=0.1):\n",
        "        super().__init__()\n",
        "        self.embed_dim = embed_dim\n",
        "        self.num_heads = num_heads\n",
        "        self.head_dim = embed_dim // num_heads\n",
        "        self.scale = self.head_dim ** -0.5\n",
        "\n",
        "        self.qkv = nn.Linear(embed_dim, embed_dim * 3)\n",
        "        self.attn_dropout = nn.Dropout(dropout)\n",
        "        self.proj = nn.Linear(embed_dim, embed_dim)\n",
        "        self.proj_dropout = nn.Dropout(dropout)\n",
        "\n",
        "    def forward(self, x):\n",
        "        B, N, C = x.shape\n",
        "\n",
        "        qkv = self.qkv(x).reshape(B, N, 3, self.num_heads, self.head_dim)\n",
        "        qkv = qkv.permute(2, 0, 3, 1, 4)\n",
        "        q, k, v = qkv[0], qkv[1], qkv[2]\n",
        "\n",
        "        attn = (q @ k.transpose(-2, -1)) * self.scale\n",
        "        attn = attn.softmax(dim=-1)\n",
        "        attn = self.attn_dropout(attn)\n",
        "\n",
        "        x = (attn @ v).transpose(1, 2).reshape(B, N, C)\n",
        "        x = self.proj(x)\n",
        "        x = self.proj_dropout(x)\n",
        "        return x\n",
        "\n",
        "class MLP(nn.Module):\n",
        "    \"\"\"\n",
        "    MLP (Feed-Forward Network) with GELU activation.\n",
        "    \"\"\"\n",
        "    def __init__(self, in_features, hidden_features=None, out_features=None, dropout=0.1):\n",
        "        super().__init__()\n",
        "        out_features = out_features or in_features\n",
        "        hidden_features = hidden_features or in_features * 4\n",
        "\n",
        "        self.fc1 = nn.Linear(in_features, hidden_features)\n",
        "        self.act = nn.GELU()\n",
        "        self.fc2 = nn.Linear(hidden_features, out_features)\n",
        "        self.dropout = nn.Dropout(dropout)\n",
        "\n",
        "    def forward(self, x):\n",
        "        x = self.fc1(x)\n",
        "        x = self.act(x)\n",
        "        x = self.dropout(x)\n",
        "        x = self.fc2(x)\n",
        "        x = self.dropout(x)\n",
        "        return x\n",
        "\n",
        "class TransformerEncoderBlock(nn.Module):\n",
        "    \"\"\"\n",
        "    Transformer Encoder Block with residual connections and layer normalization.\n",
        "    \"\"\"\n",
        "    def __init__(self, embed_dim, num_heads=6, mlp_ratio=4, dropout=0.1):\n",
        "        super().__init__()\n",
        "        self.norm1 = nn.LayerNorm(embed_dim)\n",
        "        self.attn = MultiHeadSelfAttention(embed_dim, num_heads, dropout)\n",
        "        self.norm2 = nn.LayerNorm(embed_dim)\n",
        "        self.mlp = MLP(embed_dim, embed_dim * mlp_ratio, dropout=dropout)\n",
        "\n",
        "    def forward(self, x):\n",
        "        # Attention block with residual\n",
        "        x = x + self.attn(self.norm1(x))\n",
        "        # MLP block with residual\n",
        "        x = x + self.mlp(self.norm2(x))\n",
        "        return x\n",
        "\n",
        "print(\"ViT components defined: PatchEmbedding, MultiHeadSelfAttention, MLP, TransformerEncoderBlock\")"
      ]
    },
    {
      "cell_type": "code",
      "execution_count": 4,
      "metadata": {
        "colab": {
          "base_uri": "https://localhost:8080/"
        },
        "id": "AQ20Hwb9nzwv",
        "outputId": "7d7bdcbe-0c4e-4f04-982a-34419a423baa"
      },
      "outputs": [
        {
          "name": "stdout",
          "output_type": "stream",
          "text": [
            "============================================================\n",
            "STEP 3: ASSEMBLING COMPLETE VISION TRANSFORMER\n",
            "============================================================\n",
            "VisionTransformer class defined.\n"
          ]
        }
      ],
      "source": [
        "#@title 4. Vision Transformer (ViT) Model Assembly\n",
        "print(\"=\"*60)\n",
        "print(\"STEP 3: ASSEMBLING COMPLETE VISION TRANSFORMER\")\n",
        "print(\"=\"*60)\n",
        "\n",
        "class VisionTransformer(nn.Module):\n",
        "    \"\"\"\n",
        "    Vision Transformer for image classification.\n",
        "    \"\"\"\n",
        "    def __init__(self,\n",
        "                 img_size=32,\n",
        "                 patch_size=4,\n",
        "                 in_channels=3,\n",
        "                 num_classes=10,\n",
        "                 embed_dim=192,\n",
        "                 depth=12,\n",
        "                 num_heads=6,\n",
        "                 mlp_ratio=4,\n",
        "                 dropout=0.1,\n",
        "                 emb_dropout=0.1):\n",
        "        super().__init__()\n",
        "\n",
        "        self.patch_embed = PatchEmbedding(img_size, patch_size, in_channels, embed_dim)\n",
        "        num_patches = self.patch_embed.num_patches\n",
        "\n",
        "        self.cls_token = nn.Parameter(torch.zeros(1, 1, embed_dim))\n",
        "        self.pos_embed = nn.Parameter(torch.zeros(1, num_patches + 1, embed_dim))\n",
        "        self.pos_drop = nn.Dropout(emb_dropout)\n",
        "\n",
        "        self.blocks = nn.ModuleList([\n",
        "            TransformerEncoderBlock(embed_dim, num_heads, mlp_ratio, dropout)\n",
        "            for _ in range(depth)\n",
        "        ])\n",
        "\n",
        "        self.norm = nn.LayerNorm(embed_dim)\n",
        "        self.head = nn.Linear(embed_dim, num_classes)\n",
        "\n",
        "        self.initialize_weights()\n",
        "\n",
        "    def initialize_weights(self):\n",
        "        torch.nn.init.trunc_normal_(self.pos_embed, std=0.02)\n",
        "        torch.nn.init.trunc_normal_(self.cls_token, std=0.02)\n",
        "        self.apply(self._init_weights)\n",
        "\n",
        "    def _init_weights(self, m):\n",
        "        if isinstance(m, nn.Linear):\n",
        "            torch.nn.init.trunc_normal_(m.weight, std=0.02)\n",
        "            if m.bias is not None:\n",
        "                nn.init.constant_(m.bias, 0)\n",
        "        elif isinstance(m, nn.LayerNorm):\n",
        "            nn.init.constant_(m.bias, 0)\n",
        "            nn.init.constant_(m.weight, 1.0)\n",
        "\n",
        "    def forward(self, x):\n",
        "        B = x.shape[0]\n",
        "\n",
        "        x = self.patch_embed(x)\n",
        "        cls_tokens = self.cls_token.expand(B, -1, -1)\n",
        "        x = torch.cat((cls_tokens, x), dim=1)\n",
        "        x = x + self.pos_embed\n",
        "        x = self.pos_drop(x)\n",
        "\n",
        "        for block in self.blocks:\n",
        "            x = block(x)\n",
        "\n",
        "        x = self.norm(x)\n",
        "        cls_token = x[:, 0]\n",
        "        x = self.head(cls_token)\n",
        "        return x\n",
        "\n",
        "print(\"VisionTransformer class defined.\")"
      ]
    },
    {
      "cell_type": "code",
      "execution_count": 23,
      "metadata": {
        "colab": {
          "base_uri": "https://localhost:8080/"
        },
        "id": "5jlg9qbBojEd",
        "outputId": "c67fc7a3-c351-4040-be69-aa7b51bca7f4"
      },
      "outputs": [
        {
          "name": "stdout",
          "output_type": "stream",
          "text": [
            "============================================================\n",
            "STEP 4: CONFIGURING MODEL\n",
            "============================================================\n",
            "Configuration:\n",
            "  img_size: 32\n",
            "  patch_size: 4\n",
            "  in_channels: 3\n",
            "  num_classes: 10\n",
            "  embed_dim: 256\n",
            "  depth: 12\n",
            "  num_heads: 16\n",
            "  mlp_ratio: 4\n",
            "  dropout: 0.1\n",
            "  emb_dropout: 0.1\n",
            "\n",
            "Total parameters: 9,509,642\n",
            "Trainable parameters: 9,509,642\n",
            "Number of patches: 64\n"
          ]
        }
      ],
      "source": [
        "#@title 5. Model Configuration and Initialization\n",
        "print(\"=\"*60)\n",
        "print(\"STEP 4: CONFIGURING MODEL\")\n",
        "print(\"=\"*60)\n",
        "\n",
        "# Model hyperparameters\n",
        "config = {\n",
        "    'img_size': 32,\n",
        "    'patch_size': 4,\n",
        "    'in_channels': 3,\n",
        "    'num_classes': 10,\n",
        "    'embed_dim': 256,\n",
        "    'depth': 12,\n",
        "    'num_heads': 16,\n",
        "    'mlp_ratio': 4,\n",
        "    'dropout': 0.1,\n",
        "    'emb_dropout': 0.1\n",
        "}\n",
        "\n",
        "# Create model\n",
        "model = VisionTransformer(**config).to(device)\n",
        "\n",
        "# Calculate model parameters\n",
        "total_params = sum(p.numel() for p in model.parameters())\n",
        "trainable_params = sum(p.numel() for p in model.parameters() if p.requires_grad)\n",
        "\n",
        "print(\"Configuration:\")\n",
        "for key, value in config.items():\n",
        "    print(f\"  {key}: {value}\")\n",
        "print(f\"\\nTotal parameters: {total_params:,}\")\n",
        "print(f\"Trainable parameters: {trainable_params:,}\")\n",
        "print(f\"Number of patches: {(config['img_size'] // config['patch_size']) ** 2}\")"
      ]
    },
    {
      "cell_type": "code",
      "execution_count": 24,
      "metadata": {
        "colab": {
          "base_uri": "https://localhost:8080/"
        },
        "id": "2bkqR_diom50",
        "outputId": "33046008-15e3-4987-9889-9b1905e9a498"
      },
      "outputs": [
        {
          "name": "stdout",
          "output_type": "stream",
          "text": [
            "============================================================\n",
            "STEP 5: SETTING UP TRAINING\n",
            "============================================================\n",
            "Optimizer: AdamW\n",
            "Initial learning rate: 5e-4\n",
            "Weight decay: 0.05\n",
            "Scheduler: Cosine with 10 warmup epochs\n",
            "Training epochs: 100\n"
          ]
        }
      ],
      "source": [
        "#@title 6. Training Setup (Loss, Optimizer, Scheduler)\n",
        "print(\"=\"*60)\n",
        "print(\"STEP 5: SETTING UP TRAINING\")\n",
        "print(\"=\"*60)\n",
        "\n",
        "# Loss function\n",
        "criterion = nn.CrossEntropyLoss()\n",
        "\n",
        "# Optimizer with weight decay (AdamW)\n",
        "optimizer = optim.AdamW(model.parameters(), lr=5e-4, weight_decay=0.05)\n",
        "\n",
        "# Learning rate scheduler - Cosine Annealing with Warmup\n",
        "class CosineWarmupScheduler:\n",
        "    def __init__(self, optimizer, warmup_epochs, total_epochs, base_lr, min_lr=1e-6):\n",
        "        self.optimizer = optimizer\n",
        "        self.warmup_epochs = warmup_epochs\n",
        "        self.total_epochs = total_epochs\n",
        "        self.base_lr = base_lr\n",
        "        self.min_lr = min_lr\n",
        "\n",
        "    def step(self, epoch):\n",
        "        if epoch < self.warmup_epochs:\n",
        "            lr = self.base_lr * (epoch + 1) / self.warmup_epochs\n",
        "        else:\n",
        "            progress = (epoch - self.warmup_epochs) / (self.total_epochs - self.warmup_epochs)\n",
        "            lr = self.min_lr + (self.base_lr - self.min_lr) * 0.5 * (1 + math.cos(math.pi * progress))\n",
        "\n",
        "        for param_group in self.optimizer.param_groups:\n",
        "            param_group['lr'] = lr\n",
        "        return lr\n",
        "\n",
        "# Training parameters\n",
        "num_epochs = 100\n",
        "warmup_epochs = 10\n",
        "scheduler = CosineWarmupScheduler(optimizer, warmup_epochs, num_epochs, base_lr=5e-4)\n",
        "\n",
        "print(f\"Optimizer: AdamW\")\n",
        "print(f\"Initial learning rate: 5e-4\")\n",
        "print(f\"Weight decay: 0.05\")\n",
        "print(f\"Scheduler: Cosine with {warmup_epochs} warmup epochs\")\n",
        "print(f\"Training epochs: {num_epochs}\")"
      ]
    },
    {
      "cell_type": "code",
      "execution_count": 25,
      "metadata": {
        "colab": {
          "base_uri": "https://localhost:8080/"
        },
        "id": "8x9XIwgTo79I",
        "outputId": "c2233752-7302-46f6-ce03-74fa944d2aeb"
      },
      "outputs": [
        {
          "name": "stdout",
          "output_type": "stream",
          "text": [
            "============================================================\n",
            "STEP 6: DEFINING TRAINING AND EVALUATION FUNCTIONS\n",
            "============================================================\n",
            "train_epoch() and evaluate() functions defined.\n"
          ]
        }
      ],
      "source": [
        "#@title 7. Training and Evaluation Functions\n",
        "print(\"=\"*60)\n",
        "print(\"STEP 6: DEFINING TRAINING AND EVALUATION FUNCTIONS\")\n",
        "print(\"=\"*60)\n",
        "\n",
        "def train_epoch(model, dataloader, criterion, optimizer, device):\n",
        "    \"\"\"Train model for one epoch.\"\"\"\n",
        "    model.train()\n",
        "    running_loss = 0.0\n",
        "    correct = 0\n",
        "    total = 0\n",
        "\n",
        "    pbar = tqdm(dataloader, desc='Training')\n",
        "    for batch_idx, (inputs, targets) in enumerate(pbar):\n",
        "        inputs, targets = inputs.to(device), targets.to(device)\n",
        "\n",
        "        outputs = model(inputs)\n",
        "        loss = criterion(outputs, targets)\n",
        "\n",
        "        optimizer.zero_grad()\n",
        "        loss.backward()\n",
        "        torch.nn.utils.clip_grad_norm_(model.parameters(), max_norm=1.0)\n",
        "        optimizer.step()\n",
        "\n",
        "        running_loss += loss.item()\n",
        "        _, predicted = outputs.max(1)\n",
        "        total += targets.size(0)\n",
        "        correct += predicted.eq(targets).sum().item()\n",
        "\n",
        "        pbar.set_postfix({\n",
        "            'loss': running_loss / (batch_idx + 1),\n",
        "            'acc': 100. * correct / total\n",
        "        })\n",
        "    return running_loss / len(dataloader), 100. * correct / total\n",
        "\n",
        "def evaluate(model, dataloader, criterion, device):\n",
        "    \"\"\"Evaluate model on test/validation set.\"\"\"\n",
        "    model.eval()\n",
        "    test_loss = 0.0\n",
        "    correct = 0\n",
        "    total = 0\n",
        "\n",
        "    with torch.no_grad():\n",
        "        pbar = tqdm(dataloader, desc='Evaluating')\n",
        "        for batch_idx, (inputs, targets) in enumerate(pbar):\n",
        "            inputs, targets = inputs.to(device), targets.to(device)\n",
        "            outputs = model(inputs)\n",
        "            loss = criterion(outputs, targets)\n",
        "            test_loss += loss.item()\n",
        "            _, predicted = outputs.max(1)\n",
        "            total += targets.size(0)\n",
        "            correct += predicted.eq(targets).sum().item()\n",
        "\n",
        "            pbar.set_postfix({\n",
        "                'loss': test_loss / (batch_idx + 1),\n",
        "                'acc': 100. * correct / total\n",
        "            })\n",
        "    return test_loss / len(dataloader), 100. * correct / total\n",
        "\n",
        "print(\"train_epoch() and evaluate() functions defined.\")"
      ]
    },
    {
      "cell_type": "code",
      "execution_count": 26,
      "metadata": {
        "colab": {
          "base_uri": "https://localhost:8080/"
        },
        "id": "fQlBJOUBo9is",
        "outputId": "a89350ee-93b8-4924-bae5-282cdb6662e1"
      },
      "outputs": [
        {
          "name": "stdout",
          "output_type": "stream",
          "text": [
            "============================================================\n",
            "STEP 7: TRAINING THE MODEL\n",
            "============================================================\n",
            "\n",
            "Epoch [1/100]\n",
            "Learning rate: 0.000050\n"
          ]
        },
        {
          "name": "stderr",
          "output_type": "stream",
          "text": [
            "Training: 100%|██████████| 391/391 [01:38<00:00,  3.98it/s, loss=1.87, acc=29.8]\n",
            "Evaluating: 100%|██████████| 79/79 [00:06<00:00, 12.39it/s, loss=1.87, acc=32.2]\n"
          ]
        },
        {
          "name": "stdout",
          "output_type": "stream",
          "text": [
            "Train Loss: 1.8744, Train Acc: 29.83%\n",
            "Test Loss: 1.8680, Test Acc: 32.23%\n",
            "Best model saved! Test Acc: 32.23%\n",
            "\n",
            "Epoch [2/100]\n",
            "Learning rate: 0.000100\n"
          ]
        },
        {
          "name": "stderr",
          "output_type": "stream",
          "text": [
            "Training: 100%|██████████| 391/391 [01:38<00:00,  3.97it/s, loss=1.68, acc=37.8]\n",
            "Evaluating: 100%|██████████| 79/79 [00:06<00:00, 12.17it/s, loss=1.63, acc=41.8]\n"
          ]
        },
        {
          "name": "stdout",
          "output_type": "stream",
          "text": [
            "Train Loss: 1.6770, Train Acc: 37.84%\n",
            "Test Loss: 1.6333, Test Acc: 41.83%\n",
            "Best model saved! Test Acc: 41.83%\n",
            "\n",
            "Epoch [3/100]\n",
            "Learning rate: 0.000150\n"
          ]
        },
        {
          "name": "stderr",
          "output_type": "stream",
          "text": [
            "Training: 100%|██████████| 391/391 [01:38<00:00,  3.97it/s, loss=1.49, acc=45.5]\n",
            "Evaluating: 100%|██████████| 79/79 [00:06<00:00, 12.30it/s, loss=1.42, acc=49.4]\n"
          ]
        },
        {
          "name": "stdout",
          "output_type": "stream",
          "text": [
            "Train Loss: 1.4930, Train Acc: 45.55%\n",
            "Test Loss: 1.4237, Test Acc: 49.38%\n",
            "Best model saved! Test Acc: 49.38%\n",
            "\n",
            "Epoch [4/100]\n",
            "Learning rate: 0.000200\n"
          ]
        },
        {
          "name": "stderr",
          "output_type": "stream",
          "text": [
            "Training: 100%|██████████| 391/391 [01:38<00:00,  3.97it/s, loss=1.38, acc=49.9]\n",
            "Evaluating: 100%|██████████| 79/79 [00:06<00:00, 12.12it/s, loss=1.33, acc=52]\n"
          ]
        },
        {
          "name": "stdout",
          "output_type": "stream",
          "text": [
            "Train Loss: 1.3819, Train Acc: 49.93%\n",
            "Test Loss: 1.3324, Test Acc: 51.95%\n",
            "Best model saved! Test Acc: 51.95%\n",
            "\n",
            "Epoch [5/100]\n",
            "Learning rate: 0.000250\n"
          ]
        },
        {
          "name": "stderr",
          "output_type": "stream",
          "text": [
            "Training: 100%|██████████| 391/391 [01:38<00:00,  3.97it/s, loss=1.31, acc=52.6]\n",
            "Evaluating: 100%|██████████| 79/79 [00:06<00:00, 12.29it/s, loss=1.27, acc=53.7]\n"
          ]
        },
        {
          "name": "stdout",
          "output_type": "stream",
          "text": [
            "Train Loss: 1.3086, Train Acc: 52.55%\n",
            "Test Loss: 1.2688, Test Acc: 53.66%\n",
            "Best model saved! Test Acc: 53.66%\n",
            "\n",
            "Epoch [6/100]\n",
            "Learning rate: 0.000300\n"
          ]
        },
        {
          "name": "stderr",
          "output_type": "stream",
          "text": [
            "Training: 100%|██████████| 391/391 [01:38<00:00,  3.97it/s, loss=1.26, acc=54.5]\n",
            "Evaluating: 100%|██████████| 79/79 [00:06<00:00, 12.23it/s, loss=1.25, acc=55.2]\n"
          ]
        },
        {
          "name": "stdout",
          "output_type": "stream",
          "text": [
            "Train Loss: 1.2634, Train Acc: 54.51%\n",
            "Test Loss: 1.2472, Test Acc: 55.23%\n",
            "Best model saved! Test Acc: 55.23%\n",
            "\n",
            "Epoch [7/100]\n",
            "Learning rate: 0.000350\n"
          ]
        },
        {
          "name": "stderr",
          "output_type": "stream",
          "text": [
            "Training: 100%|██████████| 391/391 [01:38<00:00,  3.96it/s, loss=1.22, acc=56]\n",
            "Evaluating: 100%|██████████| 79/79 [00:06<00:00, 12.25it/s, loss=1.14, acc=58.6]\n"
          ]
        },
        {
          "name": "stdout",
          "output_type": "stream",
          "text": [
            "Train Loss: 1.2196, Train Acc: 56.05%\n",
            "Test Loss: 1.1421, Test Acc: 58.56%\n",
            "Best model saved! Test Acc: 58.56%\n",
            "\n",
            "Epoch [8/100]\n",
            "Learning rate: 0.000400\n"
          ]
        },
        {
          "name": "stderr",
          "output_type": "stream",
          "text": [
            "Training: 100%|██████████| 391/391 [01:38<00:00,  3.96it/s, loss=1.19, acc=57.3]\n",
            "Evaluating: 100%|██████████| 79/79 [00:06<00:00, 12.04it/s, loss=1.09, acc=60.6]\n"
          ]
        },
        {
          "name": "stdout",
          "output_type": "stream",
          "text": [
            "Train Loss: 1.1859, Train Acc: 57.31%\n",
            "Test Loss: 1.0945, Test Acc: 60.60%\n",
            "Best model saved! Test Acc: 60.60%\n",
            "\n",
            "Epoch [9/100]\n",
            "Learning rate: 0.000450\n"
          ]
        },
        {
          "name": "stderr",
          "output_type": "stream",
          "text": [
            "Training: 100%|██████████| 391/391 [01:38<00:00,  3.96it/s, loss=1.16, acc=58.4]\n",
            "Evaluating: 100%|██████████| 79/79 [00:06<00:00, 12.20it/s, loss=1.1, acc=60.8]\n"
          ]
        },
        {
          "name": "stdout",
          "output_type": "stream",
          "text": [
            "Train Loss: 1.1556, Train Acc: 58.45%\n",
            "Test Loss: 1.0961, Test Acc: 60.77%\n",
            "Best model saved! Test Acc: 60.77%\n",
            "\n",
            "Epoch [10/100]\n",
            "Learning rate: 0.000500\n"
          ]
        },
        {
          "name": "stderr",
          "output_type": "stream",
          "text": [
            "Training: 100%|██████████| 391/391 [01:38<00:00,  3.95it/s, loss=1.11, acc=60.4]\n",
            "Evaluating: 100%|██████████| 79/79 [00:06<00:00, 12.02it/s, loss=1.07, acc=60.6]\n"
          ]
        },
        {
          "name": "stdout",
          "output_type": "stream",
          "text": [
            "Train Loss: 1.1127, Train Acc: 60.36%\n",
            "Test Loss: 1.0729, Test Acc: 60.57%\n",
            "\n",
            "Epoch [11/100]\n",
            "Learning rate: 0.000500\n"
          ]
        },
        {
          "name": "stderr",
          "output_type": "stream",
          "text": [
            "Training: 100%|██████████| 391/391 [01:38<00:00,  3.96it/s, loss=1.07, acc=61.8]\n",
            "Evaluating: 100%|██████████| 79/79 [00:06<00:00, 12.17it/s, loss=1.03, acc=63.5]\n"
          ]
        },
        {
          "name": "stdout",
          "output_type": "stream",
          "text": [
            "Train Loss: 1.0703, Train Acc: 61.79%\n",
            "Test Loss: 1.0264, Test Acc: 63.54%\n",
            "Best model saved! Test Acc: 63.54%\n",
            "\n",
            "Epoch [12/100]\n",
            "Learning rate: 0.000500\n"
          ]
        },
        {
          "name": "stderr",
          "output_type": "stream",
          "text": [
            "Training: 100%|██████████| 391/391 [01:38<00:00,  3.96it/s, loss=1.03, acc=63.3]\n",
            "Evaluating: 100%|██████████| 79/79 [00:06<00:00, 12.25it/s, loss=0.962, acc=65.9]\n"
          ]
        },
        {
          "name": "stdout",
          "output_type": "stream",
          "text": [
            "Train Loss: 1.0271, Train Acc: 63.32%\n",
            "Test Loss: 0.9618, Test Acc: 65.87%\n",
            "Best model saved! Test Acc: 65.87%\n",
            "\n",
            "Epoch [13/100]\n",
            "Learning rate: 0.000499\n"
          ]
        },
        {
          "name": "stderr",
          "output_type": "stream",
          "text": [
            "Training: 100%|██████████| 391/391 [01:38<00:00,  3.96it/s, loss=0.979, acc=64.9]\n",
            "Evaluating: 100%|██████████| 79/79 [00:06<00:00, 12.14it/s, loss=0.924, acc=67.7]\n"
          ]
        },
        {
          "name": "stdout",
          "output_type": "stream",
          "text": [
            "Train Loss: 0.9789, Train Acc: 64.92%\n",
            "Test Loss: 0.9243, Test Acc: 67.66%\n",
            "Best model saved! Test Acc: 67.66%\n",
            "\n",
            "Epoch [14/100]\n",
            "Learning rate: 0.000499\n"
          ]
        },
        {
          "name": "stderr",
          "output_type": "stream",
          "text": [
            "Training: 100%|██████████| 391/391 [01:38<00:00,  3.95it/s, loss=0.934, acc=66.8]\n",
            "Evaluating: 100%|██████████| 79/79 [00:06<00:00, 12.26it/s, loss=0.878, acc=68.9]\n"
          ]
        },
        {
          "name": "stdout",
          "output_type": "stream",
          "text": [
            "Train Loss: 0.9345, Train Acc: 66.80%\n",
            "Test Loss: 0.8776, Test Acc: 68.89%\n",
            "Best model saved! Test Acc: 68.89%\n",
            "\n",
            "Epoch [15/100]\n",
            "Learning rate: 0.000498\n"
          ]
        },
        {
          "name": "stderr",
          "output_type": "stream",
          "text": [
            "Training: 100%|██████████| 391/391 [01:38<00:00,  3.95it/s, loss=0.893, acc=68.3]\n",
            "Evaluating: 100%|██████████| 79/79 [00:06<00:00, 11.95it/s, loss=0.841, acc=70.5]\n"
          ]
        },
        {
          "name": "stdout",
          "output_type": "stream",
          "text": [
            "Train Loss: 0.8935, Train Acc: 68.28%\n",
            "Test Loss: 0.8414, Test Acc: 70.50%\n",
            "Best model saved! Test Acc: 70.50%\n",
            "\n",
            "Epoch [16/100]\n",
            "Learning rate: 0.000496\n"
          ]
        },
        {
          "name": "stderr",
          "output_type": "stream",
          "text": [
            "Training: 100%|██████████| 391/391 [01:38<00:00,  3.96it/s, loss=0.862, acc=69.4]\n",
            "Evaluating: 100%|██████████| 79/79 [00:06<00:00, 12.28it/s, loss=0.824, acc=71.2]\n"
          ]
        },
        {
          "name": "stdout",
          "output_type": "stream",
          "text": [
            "Train Loss: 0.8618, Train Acc: 69.35%\n",
            "Test Loss: 0.8244, Test Acc: 71.24%\n",
            "Best model saved! Test Acc: 71.24%\n",
            "\n",
            "Epoch [17/100]\n",
            "Learning rate: 0.000495\n"
          ]
        },
        {
          "name": "stderr",
          "output_type": "stream",
          "text": [
            "Training: 100%|██████████| 391/391 [01:38<00:00,  3.96it/s, loss=0.836, acc=70.4]\n",
            "Evaluating: 100%|██████████| 79/79 [00:06<00:00, 12.19it/s, loss=0.806, acc=71.4]\n"
          ]
        },
        {
          "name": "stdout",
          "output_type": "stream",
          "text": [
            "Train Loss: 0.8363, Train Acc: 70.45%\n",
            "Test Loss: 0.8060, Test Acc: 71.36%\n",
            "Best model saved! Test Acc: 71.36%\n",
            "\n",
            "Epoch [18/100]\n",
            "Learning rate: 0.000493\n"
          ]
        },
        {
          "name": "stderr",
          "output_type": "stream",
          "text": [
            "Training: 100%|██████████| 391/391 [01:38<00:00,  3.95it/s, loss=0.818, acc=70.9]\n",
            "Evaluating: 100%|██████████| 79/79 [00:06<00:00, 12.27it/s, loss=0.765, acc=73]\n"
          ]
        },
        {
          "name": "stdout",
          "output_type": "stream",
          "text": [
            "Train Loss: 0.8179, Train Acc: 70.89%\n",
            "Test Loss: 0.7651, Test Acc: 72.98%\n",
            "Best model saved! Test Acc: 72.98%\n",
            "\n",
            "Epoch [19/100]\n",
            "Learning rate: 0.000490\n"
          ]
        },
        {
          "name": "stderr",
          "output_type": "stream",
          "text": [
            "Training: 100%|██████████| 391/391 [01:38<00:00,  3.96it/s, loss=0.784, acc=72.3]\n",
            "Evaluating: 100%|██████████| 79/79 [00:06<00:00, 12.18it/s, loss=0.775, acc=72.9]\n"
          ]
        },
        {
          "name": "stdout",
          "output_type": "stream",
          "text": [
            "Train Loss: 0.7844, Train Acc: 72.30%\n",
            "Test Loss: 0.7751, Test Acc: 72.89%\n",
            "\n",
            "Epoch [20/100]\n",
            "Learning rate: 0.000488\n"
          ]
        },
        {
          "name": "stderr",
          "output_type": "stream",
          "text": [
            "Training: 100%|██████████| 391/391 [01:38<00:00,  3.96it/s, loss=0.766, acc=72.8]\n",
            "Evaluating: 100%|██████████| 79/79 [00:06<00:00, 12.25it/s, loss=0.722, acc=74.8]\n"
          ]
        },
        {
          "name": "stdout",
          "output_type": "stream",
          "text": [
            "Train Loss: 0.7659, Train Acc: 72.79%\n",
            "Test Loss: 0.7220, Test Acc: 74.77%\n",
            "Best model saved! Test Acc: 74.77%\n",
            "\n",
            "Epoch [21/100]\n",
            "Learning rate: 0.000485\n"
          ]
        },
        {
          "name": "stderr",
          "output_type": "stream",
          "text": [
            "Training: 100%|██████████| 391/391 [01:38<00:00,  3.96it/s, loss=0.736, acc=74]\n",
            "Evaluating: 100%|██████████| 79/79 [00:06<00:00, 12.12it/s, loss=0.757, acc=73.1]\n"
          ]
        },
        {
          "name": "stdout",
          "output_type": "stream",
          "text": [
            "Train Loss: 0.7357, Train Acc: 74.05%\n",
            "Test Loss: 0.7568, Test Acc: 73.11%\n",
            "\n",
            "Epoch [22/100]\n",
            "Learning rate: 0.000482\n"
          ]
        },
        {
          "name": "stderr",
          "output_type": "stream",
          "text": [
            "Training: 100%|██████████| 391/391 [01:38<00:00,  3.95it/s, loss=0.718, acc=74.7]\n",
            "Evaluating: 100%|██████████| 79/79 [00:06<00:00, 12.25it/s, loss=0.75, acc=73.3]\n"
          ]
        },
        {
          "name": "stdout",
          "output_type": "stream",
          "text": [
            "Train Loss: 0.7179, Train Acc: 74.69%\n",
            "Test Loss: 0.7503, Test Acc: 73.30%\n",
            "\n",
            "Epoch [23/100]\n",
            "Learning rate: 0.000478\n"
          ]
        },
        {
          "name": "stderr",
          "output_type": "stream",
          "text": [
            "Training: 100%|██████████| 391/391 [01:38<00:00,  3.96it/s, loss=0.697, acc=75.2]\n",
            "Evaluating: 100%|██████████| 79/79 [00:06<00:00, 12.18it/s, loss=0.701, acc=75]\n"
          ]
        },
        {
          "name": "stdout",
          "output_type": "stream",
          "text": [
            "Train Loss: 0.6973, Train Acc: 75.18%\n",
            "Test Loss: 0.7014, Test Acc: 75.03%\n",
            "Best model saved! Test Acc: 75.03%\n",
            "\n",
            "Epoch [24/100]\n",
            "Learning rate: 0.000475\n"
          ]
        },
        {
          "name": "stderr",
          "output_type": "stream",
          "text": [
            "Training: 100%|██████████| 391/391 [01:38<00:00,  3.96it/s, loss=0.675, acc=76]\n",
            "Evaluating: 100%|██████████| 79/79 [00:06<00:00, 12.27it/s, loss=0.69, acc=75.5]\n"
          ]
        },
        {
          "name": "stdout",
          "output_type": "stream",
          "text": [
            "Train Loss: 0.6751, Train Acc: 76.01%\n",
            "Test Loss: 0.6904, Test Acc: 75.54%\n",
            "Best model saved! Test Acc: 75.54%\n",
            "\n",
            "Epoch [25/100]\n",
            "Learning rate: 0.000471\n"
          ]
        },
        {
          "name": "stderr",
          "output_type": "stream",
          "text": [
            "Training: 100%|██████████| 391/391 [01:38<00:00,  3.95it/s, loss=0.651, acc=77]\n",
            "Evaluating: 100%|██████████| 79/79 [00:06<00:00, 12.15it/s, loss=0.68, acc=76.7]\n"
          ]
        },
        {
          "name": "stdout",
          "output_type": "stream",
          "text": [
            "Train Loss: 0.6512, Train Acc: 76.98%\n",
            "Test Loss: 0.6802, Test Acc: 76.69%\n",
            "Best model saved! Test Acc: 76.69%\n",
            "\n",
            "Epoch [26/100]\n",
            "Learning rate: 0.000467\n"
          ]
        },
        {
          "name": "stderr",
          "output_type": "stream",
          "text": [
            "Training: 100%|██████████| 391/391 [01:38<00:00,  3.95it/s, loss=0.637, acc=77.5]\n",
            "Evaluating: 100%|██████████| 79/79 [00:06<00:00, 12.21it/s, loss=0.651, acc=77.3]\n"
          ]
        },
        {
          "name": "stdout",
          "output_type": "stream",
          "text": [
            "Train Loss: 0.6371, Train Acc: 77.54%\n",
            "Test Loss: 0.6512, Test Acc: 77.26%\n",
            "Best model saved! Test Acc: 77.26%\n",
            "\n",
            "Epoch [27/100]\n",
            "Learning rate: 0.000462\n"
          ]
        },
        {
          "name": "stderr",
          "output_type": "stream",
          "text": [
            "Training: 100%|██████████| 391/391 [01:38<00:00,  3.95it/s, loss=0.616, acc=78.1]\n",
            "Evaluating: 100%|██████████| 79/79 [00:06<00:00, 12.02it/s, loss=0.622, acc=78.2]\n"
          ]
        },
        {
          "name": "stdout",
          "output_type": "stream",
          "text": [
            "Train Loss: 0.6156, Train Acc: 78.08%\n",
            "Test Loss: 0.6224, Test Acc: 78.22%\n",
            "Best model saved! Test Acc: 78.22%\n",
            "\n",
            "Epoch [28/100]\n",
            "Learning rate: 0.000457\n"
          ]
        },
        {
          "name": "stderr",
          "output_type": "stream",
          "text": [
            "Training: 100%|██████████| 391/391 [01:39<00:00,  3.95it/s, loss=0.603, acc=78.6]\n",
            "Evaluating: 100%|██████████| 79/79 [00:06<00:00, 12.22it/s, loss=0.629, acc=77.9]\n"
          ]
        },
        {
          "name": "stdout",
          "output_type": "stream",
          "text": [
            "Train Loss: 0.6027, Train Acc: 78.55%\n",
            "Test Loss: 0.6289, Test Acc: 77.87%\n",
            "\n",
            "Epoch [29/100]\n",
            "Learning rate: 0.000452\n"
          ]
        },
        {
          "name": "stderr",
          "output_type": "stream",
          "text": [
            "Training: 100%|██████████| 391/391 [01:38<00:00,  3.95it/s, loss=0.58, acc=79.3]\n",
            "Evaluating: 100%|██████████| 79/79 [00:06<00:00, 12.06it/s, loss=0.669, acc=76.6]\n"
          ]
        },
        {
          "name": "stdout",
          "output_type": "stream",
          "text": [
            "Train Loss: 0.5802, Train Acc: 79.32%\n",
            "Test Loss: 0.6694, Test Acc: 76.56%\n",
            "\n",
            "Epoch [30/100]\n",
            "Learning rate: 0.000447\n"
          ]
        },
        {
          "name": "stderr",
          "output_type": "stream",
          "text": [
            "Training: 100%|██████████| 391/391 [01:38<00:00,  3.96it/s, loss=0.568, acc=80]\n",
            "Evaluating: 100%|██████████| 79/79 [00:06<00:00, 12.23it/s, loss=0.602, acc=79.4]\n"
          ]
        },
        {
          "name": "stdout",
          "output_type": "stream",
          "text": [
            "Train Loss: 0.5680, Train Acc: 80.00%\n",
            "Test Loss: 0.6022, Test Acc: 79.40%\n",
            "Best model saved! Test Acc: 79.40%\n",
            "\n",
            "Epoch [31/100]\n",
            "Learning rate: 0.000442\n"
          ]
        },
        {
          "name": "stderr",
          "output_type": "stream",
          "text": [
            "Training: 100%|██████████| 391/391 [01:39<00:00,  3.95it/s, loss=0.549, acc=80.5]\n",
            "Evaluating: 100%|██████████| 79/79 [00:06<00:00, 12.07it/s, loss=0.645, acc=77.9]\n"
          ]
        },
        {
          "name": "stdout",
          "output_type": "stream",
          "text": [
            "Train Loss: 0.5492, Train Acc: 80.53%\n",
            "Test Loss: 0.6448, Test Acc: 77.92%\n",
            "\n",
            "Epoch [32/100]\n",
            "Learning rate: 0.000436\n"
          ]
        },
        {
          "name": "stderr",
          "output_type": "stream",
          "text": [
            "Training: 100%|██████████| 391/391 [01:38<00:00,  3.95it/s, loss=0.537, acc=80.8]\n",
            "Evaluating: 100%|██████████| 79/79 [00:06<00:00, 12.16it/s, loss=0.598, acc=79.5]\n"
          ]
        },
        {
          "name": "stdout",
          "output_type": "stream",
          "text": [
            "Train Loss: 0.5372, Train Acc: 80.82%\n",
            "Test Loss: 0.5979, Test Acc: 79.54%\n",
            "Best model saved! Test Acc: 79.54%\n",
            "\n",
            "Epoch [33/100]\n",
            "Learning rate: 0.000430\n"
          ]
        },
        {
          "name": "stderr",
          "output_type": "stream",
          "text": [
            "Training: 100%|██████████| 391/391 [01:39<00:00,  3.95it/s, loss=0.519, acc=81.4]\n",
            "Evaluating: 100%|██████████| 79/79 [00:06<00:00, 12.05it/s, loss=0.59, acc=79.7]\n"
          ]
        },
        {
          "name": "stdout",
          "output_type": "stream",
          "text": [
            "Train Loss: 0.5194, Train Acc: 81.44%\n",
            "Test Loss: 0.5896, Test Acc: 79.67%\n",
            "Best model saved! Test Acc: 79.67%\n",
            "\n",
            "Epoch [34/100]\n",
            "Learning rate: 0.000424\n"
          ]
        },
        {
          "name": "stderr",
          "output_type": "stream",
          "text": [
            "Training: 100%|██████████| 391/391 [01:38<00:00,  3.95it/s, loss=0.507, acc=82]\n",
            "Evaluating: 100%|██████████| 79/79 [00:06<00:00, 12.18it/s, loss=0.587, acc=80.2]\n"
          ]
        },
        {
          "name": "stdout",
          "output_type": "stream",
          "text": [
            "Train Loss: 0.5067, Train Acc: 82.02%\n",
            "Test Loss: 0.5872, Test Acc: 80.18%\n",
            "Best model saved! Test Acc: 80.18%\n",
            "\n",
            "Epoch [35/100]\n",
            "Learning rate: 0.000417\n"
          ]
        },
        {
          "name": "stderr",
          "output_type": "stream",
          "text": [
            "Training: 100%|██████████| 391/391 [01:39<00:00,  3.95it/s, loss=0.493, acc=82.6]\n",
            "Evaluating: 100%|██████████| 79/79 [00:06<00:00, 11.99it/s, loss=0.589, acc=80]\n"
          ]
        },
        {
          "name": "stdout",
          "output_type": "stream",
          "text": [
            "Train Loss: 0.4930, Train Acc: 82.57%\n",
            "Test Loss: 0.5888, Test Acc: 80.01%\n",
            "\n",
            "Epoch [36/100]\n",
            "Learning rate: 0.000411\n"
          ]
        },
        {
          "name": "stderr",
          "output_type": "stream",
          "text": [
            "Training: 100%|██████████| 391/391 [01:38<00:00,  3.96it/s, loss=0.477, acc=83]\n",
            "Evaluating: 100%|██████████| 79/79 [00:06<00:00, 12.15it/s, loss=0.568, acc=81.1]\n"
          ]
        },
        {
          "name": "stdout",
          "output_type": "stream",
          "text": [
            "Train Loss: 0.4771, Train Acc: 83.00%\n",
            "Test Loss: 0.5679, Test Acc: 81.07%\n",
            "Best model saved! Test Acc: 81.07%\n",
            "\n",
            "Epoch [37/100]\n",
            "Learning rate: 0.000404\n"
          ]
        },
        {
          "name": "stderr",
          "output_type": "stream",
          "text": [
            "Training: 100%|██████████| 391/391 [01:39<00:00,  3.95it/s, loss=0.464, acc=83.5]\n",
            "Evaluating: 100%|██████████| 79/79 [00:06<00:00, 12.25it/s, loss=0.575, acc=80.3]\n"
          ]
        },
        {
          "name": "stdout",
          "output_type": "stream",
          "text": [
            "Train Loss: 0.4644, Train Acc: 83.45%\n",
            "Test Loss: 0.5755, Test Acc: 80.35%\n",
            "\n",
            "Epoch [38/100]\n",
            "Learning rate: 0.000397\n"
          ]
        },
        {
          "name": "stderr",
          "output_type": "stream",
          "text": [
            "Training: 100%|██████████| 391/391 [01:38<00:00,  3.95it/s, loss=0.454, acc=83.7]\n",
            "Evaluating: 100%|██████████| 79/79 [00:06<00:00, 12.18it/s, loss=0.551, acc=81.5]\n"
          ]
        },
        {
          "name": "stdout",
          "output_type": "stream",
          "text": [
            "Train Loss: 0.4541, Train Acc: 83.67%\n",
            "Test Loss: 0.5511, Test Acc: 81.46%\n",
            "Best model saved! Test Acc: 81.46%\n",
            "\n",
            "Epoch [39/100]\n",
            "Learning rate: 0.000390\n"
          ]
        },
        {
          "name": "stderr",
          "output_type": "stream",
          "text": [
            "Training: 100%|██████████| 391/391 [01:38<00:00,  3.96it/s, loss=0.433, acc=84.6]\n",
            "Evaluating: 100%|██████████| 79/79 [00:06<00:00, 12.24it/s, loss=0.573, acc=80.9]\n"
          ]
        },
        {
          "name": "stdout",
          "output_type": "stream",
          "text": [
            "Train Loss: 0.4325, Train Acc: 84.63%\n",
            "Test Loss: 0.5733, Test Acc: 80.90%\n",
            "\n",
            "Epoch [40/100]\n",
            "Learning rate: 0.000383\n"
          ]
        },
        {
          "name": "stderr",
          "output_type": "stream",
          "text": [
            "Training: 100%|██████████| 391/391 [01:38<00:00,  3.96it/s, loss=0.421, acc=85.1]\n",
            "Evaluating: 100%|██████████| 79/79 [00:06<00:00, 12.16it/s, loss=0.565, acc=80.8]\n"
          ]
        },
        {
          "name": "stdout",
          "output_type": "stream",
          "text": [
            "Train Loss: 0.4212, Train Acc: 85.10%\n",
            "Test Loss: 0.5652, Test Acc: 80.78%\n",
            "\n",
            "Epoch [41/100]\n",
            "Learning rate: 0.000375\n"
          ]
        },
        {
          "name": "stderr",
          "output_type": "stream",
          "text": [
            "Training: 100%|██████████| 391/391 [01:38<00:00,  3.95it/s, loss=0.409, acc=85.2]\n",
            "Evaluating: 100%|██████████| 79/79 [00:06<00:00, 12.27it/s, loss=0.576, acc=80.7]\n"
          ]
        },
        {
          "name": "stdout",
          "output_type": "stream",
          "text": [
            "Train Loss: 0.4094, Train Acc: 85.20%\n",
            "Test Loss: 0.5756, Test Acc: 80.74%\n",
            "\n",
            "Epoch [42/100]\n",
            "Learning rate: 0.000368\n"
          ]
        },
        {
          "name": "stderr",
          "output_type": "stream",
          "text": [
            "Training: 100%|██████████| 391/391 [01:38<00:00,  3.95it/s, loss=0.397, acc=85.8]\n",
            "Evaluating: 100%|██████████| 79/79 [00:06<00:00, 12.17it/s, loss=0.583, acc=81.1]\n"
          ]
        },
        {
          "name": "stdout",
          "output_type": "stream",
          "text": [
            "Train Loss: 0.3972, Train Acc: 85.75%\n",
            "Test Loss: 0.5826, Test Acc: 81.08%\n",
            "\n",
            "Epoch [43/100]\n",
            "Learning rate: 0.000360\n"
          ]
        },
        {
          "name": "stderr",
          "output_type": "stream",
          "text": [
            "Training: 100%|██████████| 391/391 [01:38<00:00,  3.96it/s, loss=0.381, acc=86.4]\n",
            "Evaluating: 100%|██████████| 79/79 [00:06<00:00, 12.25it/s, loss=0.566, acc=81.3]\n"
          ]
        },
        {
          "name": "stdout",
          "output_type": "stream",
          "text": [
            "Train Loss: 0.3812, Train Acc: 86.43%\n",
            "Test Loss: 0.5655, Test Acc: 81.34%\n",
            "\n",
            "Epoch [44/100]\n",
            "Learning rate: 0.000352\n"
          ]
        },
        {
          "name": "stderr",
          "output_type": "stream",
          "text": [
            "Training: 100%|██████████| 391/391 [01:38<00:00,  3.96it/s, loss=0.364, acc=87]\n",
            "Evaluating: 100%|██████████| 79/79 [00:06<00:00, 12.08it/s, loss=0.571, acc=81.6]\n"
          ]
        },
        {
          "name": "stdout",
          "output_type": "stream",
          "text": [
            "Train Loss: 0.3641, Train Acc: 87.05%\n",
            "Test Loss: 0.5715, Test Acc: 81.64%\n",
            "Best model saved! Test Acc: 81.64%\n",
            "\n",
            "Epoch [45/100]\n",
            "Learning rate: 0.000344\n"
          ]
        },
        {
          "name": "stderr",
          "output_type": "stream",
          "text": [
            "Training: 100%|██████████| 391/391 [01:38<00:00,  3.95it/s, loss=0.35, acc=87.5]\n",
            "Evaluating: 100%|██████████| 79/79 [00:06<00:00, 12.25it/s, loss=0.569, acc=81.9]\n"
          ]
        },
        {
          "name": "stdout",
          "output_type": "stream",
          "text": [
            "Train Loss: 0.3498, Train Acc: 87.45%\n",
            "Test Loss: 0.5692, Test Acc: 81.88%\n",
            "Best model saved! Test Acc: 81.88%\n",
            "\n",
            "Epoch [46/100]\n",
            "Learning rate: 0.000336\n"
          ]
        },
        {
          "name": "stderr",
          "output_type": "stream",
          "text": [
            "Training: 100%|██████████| 391/391 [01:39<00:00,  3.95it/s, loss=0.338, acc=87.8]\n",
            "Evaluating: 100%|██████████| 79/79 [00:06<00:00, 12.06it/s, loss=0.594, acc=81.5]\n"
          ]
        },
        {
          "name": "stdout",
          "output_type": "stream",
          "text": [
            "Train Loss: 0.3377, Train Acc: 87.85%\n",
            "Test Loss: 0.5937, Test Acc: 81.53%\n",
            "\n",
            "Epoch [47/100]\n",
            "Learning rate: 0.000328\n"
          ]
        },
        {
          "name": "stderr",
          "output_type": "stream",
          "text": [
            "Training: 100%|██████████| 391/391 [01:38<00:00,  3.96it/s, loss=0.328, acc=88.3]\n",
            "Evaluating: 100%|██████████| 79/79 [00:06<00:00, 12.21it/s, loss=0.59, acc=81.3]\n"
          ]
        },
        {
          "name": "stdout",
          "output_type": "stream",
          "text": [
            "Train Loss: 0.3281, Train Acc: 88.27%\n",
            "Test Loss: 0.5900, Test Acc: 81.35%\n",
            "\n",
            "Epoch [48/100]\n",
            "Learning rate: 0.000319\n"
          ]
        },
        {
          "name": "stderr",
          "output_type": "stream",
          "text": [
            "Training: 100%|██████████| 391/391 [01:38<00:00,  3.96it/s, loss=0.315, acc=88.6]\n",
            "Evaluating: 100%|██████████| 79/79 [00:06<00:00, 12.15it/s, loss=0.587, acc=81.7]\n"
          ]
        },
        {
          "name": "stdout",
          "output_type": "stream",
          "text": [
            "Train Loss: 0.3148, Train Acc: 88.63%\n",
            "Test Loss: 0.5873, Test Acc: 81.71%\n",
            "\n",
            "Epoch [49/100]\n",
            "Learning rate: 0.000311\n"
          ]
        },
        {
          "name": "stderr",
          "output_type": "stream",
          "text": [
            "Training: 100%|██████████| 391/391 [01:38<00:00,  3.95it/s, loss=0.294, acc=89.4]\n",
            "Evaluating: 100%|██████████| 79/79 [00:06<00:00, 12.15it/s, loss=0.557, acc=82.9]\n"
          ]
        },
        {
          "name": "stdout",
          "output_type": "stream",
          "text": [
            "Train Loss: 0.2939, Train Acc: 89.42%\n",
            "Test Loss: 0.5570, Test Acc: 82.91%\n",
            "Best model saved! Test Acc: 82.91%\n",
            "\n",
            "Epoch [50/100]\n",
            "Learning rate: 0.000302\n"
          ]
        },
        {
          "name": "stderr",
          "output_type": "stream",
          "text": [
            "Training: 100%|██████████| 391/391 [01:38<00:00,  3.95it/s, loss=0.283, acc=89.8]\n",
            "Evaluating: 100%|██████████| 79/79 [00:06<00:00, 12.27it/s, loss=0.583, acc=81.9]\n"
          ]
        },
        {
          "name": "stdout",
          "output_type": "stream",
          "text": [
            "Train Loss: 0.2828, Train Acc: 89.76%\n",
            "Test Loss: 0.5828, Test Acc: 81.94%\n",
            "\n",
            "Epoch [51/100]\n",
            "Learning rate: 0.000294\n"
          ]
        },
        {
          "name": "stderr",
          "output_type": "stream",
          "text": [
            "Training: 100%|██████████| 391/391 [01:38<00:00,  3.95it/s, loss=0.267, acc=90.4]\n",
            "Evaluating: 100%|██████████| 79/79 [00:06<00:00, 12.16it/s, loss=0.597, acc=81.9]\n"
          ]
        },
        {
          "name": "stdout",
          "output_type": "stream",
          "text": [
            "Train Loss: 0.2671, Train Acc: 90.37%\n",
            "Test Loss: 0.5974, Test Acc: 81.92%\n",
            "\n",
            "Epoch [52/100]\n",
            "Learning rate: 0.000285\n"
          ]
        },
        {
          "name": "stderr",
          "output_type": "stream",
          "text": [
            "Training: 100%|██████████| 391/391 [01:38<00:00,  3.95it/s, loss=0.261, acc=90.7]\n",
            "Evaluating: 100%|██████████| 79/79 [00:06<00:00, 12.27it/s, loss=0.583, acc=82.6]\n"
          ]
        },
        {
          "name": "stdout",
          "output_type": "stream",
          "text": [
            "Train Loss: 0.2610, Train Acc: 90.66%\n",
            "Test Loss: 0.5828, Test Acc: 82.57%\n",
            "\n",
            "Epoch [53/100]\n",
            "Learning rate: 0.000277\n"
          ]
        },
        {
          "name": "stderr",
          "output_type": "stream",
          "text": [
            "Training: 100%|██████████| 391/391 [01:38<00:00,  3.95it/s, loss=0.249, acc=91]\n",
            "Evaluating: 100%|██████████| 79/79 [00:06<00:00, 12.19it/s, loss=0.587, acc=82.6]\n"
          ]
        },
        {
          "name": "stdout",
          "output_type": "stream",
          "text": [
            "Train Loss: 0.2487, Train Acc: 91.05%\n",
            "Test Loss: 0.5867, Test Acc: 82.63%\n",
            "\n",
            "Epoch [54/100]\n",
            "Learning rate: 0.000268\n"
          ]
        },
        {
          "name": "stderr",
          "output_type": "stream",
          "text": [
            "Training: 100%|██████████| 391/391 [01:38<00:00,  3.95it/s, loss=0.233, acc=91.6]\n",
            "Evaluating: 100%|██████████| 79/79 [00:06<00:00, 12.26it/s, loss=0.602, acc=82.5]\n"
          ]
        },
        {
          "name": "stdout",
          "output_type": "stream",
          "text": [
            "Train Loss: 0.2330, Train Acc: 91.61%\n",
            "Test Loss: 0.6022, Test Acc: 82.53%\n",
            "\n",
            "Epoch [55/100]\n",
            "Learning rate: 0.000259\n"
          ]
        },
        {
          "name": "stderr",
          "output_type": "stream",
          "text": [
            "Training: 100%|██████████| 391/391 [01:38<00:00,  3.95it/s, loss=0.221, acc=91.9]\n",
            "Evaluating: 100%|██████████| 79/79 [00:06<00:00, 12.01it/s, loss=0.62, acc=82.4]\n"
          ]
        },
        {
          "name": "stdout",
          "output_type": "stream",
          "text": [
            "Train Loss: 0.2210, Train Acc: 91.89%\n",
            "Test Loss: 0.6198, Test Acc: 82.36%\n",
            "\n",
            "Epoch [56/100]\n",
            "Learning rate: 0.000251\n"
          ]
        },
        {
          "name": "stderr",
          "output_type": "stream",
          "text": [
            "Training: 100%|██████████| 391/391 [01:38<00:00,  3.96it/s, loss=0.209, acc=92.4]\n",
            "Evaluating: 100%|██████████| 79/79 [00:06<00:00, 12.27it/s, loss=0.608, acc=82.8]\n"
          ]
        },
        {
          "name": "stdout",
          "output_type": "stream",
          "text": [
            "Train Loss: 0.2095, Train Acc: 92.36%\n",
            "Test Loss: 0.6084, Test Acc: 82.77%\n",
            "\n",
            "Epoch [57/100]\n",
            "Learning rate: 0.000242\n"
          ]
        },
        {
          "name": "stderr",
          "output_type": "stream",
          "text": [
            "Training: 100%|██████████| 391/391 [01:38<00:00,  3.96it/s, loss=0.203, acc=92.6]\n",
            "Evaluating: 100%|██████████| 79/79 [00:06<00:00, 12.14it/s, loss=0.626, acc=82.8]\n"
          ]
        },
        {
          "name": "stdout",
          "output_type": "stream",
          "text": [
            "Train Loss: 0.2027, Train Acc: 92.64%\n",
            "Test Loss: 0.6264, Test Acc: 82.83%\n",
            "\n",
            "Epoch [58/100]\n",
            "Learning rate: 0.000233\n"
          ]
        },
        {
          "name": "stderr",
          "output_type": "stream",
          "text": [
            "Training: 100%|██████████| 391/391 [01:38<00:00,  3.95it/s, loss=0.191, acc=93.2]\n",
            "Evaluating: 100%|██████████| 79/79 [00:06<00:00, 12.27it/s, loss=0.62, acc=82.4]\n"
          ]
        },
        {
          "name": "stdout",
          "output_type": "stream",
          "text": [
            "Train Loss: 0.1914, Train Acc: 93.19%\n",
            "Test Loss: 0.6199, Test Acc: 82.36%\n",
            "\n",
            "Epoch [59/100]\n",
            "Learning rate: 0.000224\n"
          ]
        },
        {
          "name": "stderr",
          "output_type": "stream",
          "text": [
            "Training: 100%|██████████| 391/391 [01:38<00:00,  3.95it/s, loss=0.181, acc=93.4]\n",
            "Evaluating: 100%|██████████| 79/79 [00:06<00:00, 12.14it/s, loss=0.659, acc=82.4]\n"
          ]
        },
        {
          "name": "stdout",
          "output_type": "stream",
          "text": [
            "Train Loss: 0.1807, Train Acc: 93.44%\n",
            "Test Loss: 0.6590, Test Acc: 82.43%\n",
            "\n",
            "Epoch [60/100]\n",
            "Learning rate: 0.000216\n"
          ]
        },
        {
          "name": "stderr",
          "output_type": "stream",
          "text": [
            "Training: 100%|██████████| 391/391 [01:38<00:00,  3.95it/s, loss=0.175, acc=93.7]\n",
            "Evaluating: 100%|██████████| 79/79 [00:06<00:00, 12.22it/s, loss=0.667, acc=82.6]\n"
          ]
        },
        {
          "name": "stdout",
          "output_type": "stream",
          "text": [
            "Train Loss: 0.1748, Train Acc: 93.66%\n",
            "Test Loss: 0.6675, Test Acc: 82.57%\n",
            "\n",
            "Epoch [61/100]\n",
            "Learning rate: 0.000207\n"
          ]
        },
        {
          "name": "stderr",
          "output_type": "stream",
          "text": [
            "Training: 100%|██████████| 391/391 [01:38<00:00,  3.95it/s, loss=0.163, acc=94.1]\n",
            "Evaluating: 100%|██████████| 79/79 [00:06<00:00, 12.14it/s, loss=0.659, acc=82.7]\n"
          ]
        },
        {
          "name": "stdout",
          "output_type": "stream",
          "text": [
            "Train Loss: 0.1634, Train Acc: 94.08%\n",
            "Test Loss: 0.6594, Test Acc: 82.70%\n",
            "\n",
            "Epoch [62/100]\n",
            "Learning rate: 0.000199\n"
          ]
        },
        {
          "name": "stderr",
          "output_type": "stream",
          "text": [
            "Training: 100%|██████████| 391/391 [01:38<00:00,  3.96it/s, loss=0.155, acc=94.5]\n",
            "Evaluating: 100%|██████████| 79/79 [00:06<00:00, 12.14it/s, loss=0.694, acc=82.4]\n"
          ]
        },
        {
          "name": "stdout",
          "output_type": "stream",
          "text": [
            "Train Loss: 0.1554, Train Acc: 94.46%\n",
            "Test Loss: 0.6936, Test Acc: 82.37%\n",
            "\n",
            "Epoch [63/100]\n",
            "Learning rate: 0.000190\n"
          ]
        },
        {
          "name": "stderr",
          "output_type": "stream",
          "text": [
            "Training: 100%|██████████| 391/391 [01:39<00:00,  3.95it/s, loss=0.143, acc=94.7]\n",
            "Evaluating: 100%|██████████| 79/79 [00:06<00:00, 12.19it/s, loss=0.677, acc=82.9]\n"
          ]
        },
        {
          "name": "stdout",
          "output_type": "stream",
          "text": [
            "Train Loss: 0.1435, Train Acc: 94.73%\n",
            "Test Loss: 0.6774, Test Acc: 82.91%\n",
            "\n",
            "Epoch [64/100]\n",
            "Learning rate: 0.000182\n"
          ]
        },
        {
          "name": "stderr",
          "output_type": "stream",
          "text": [
            "Training: 100%|██████████| 391/391 [01:39<00:00,  3.95it/s, loss=0.136, acc=95.3]\n",
            "Evaluating: 100%|██████████| 79/79 [00:06<00:00, 12.16it/s, loss=0.709, acc=82.4]\n"
          ]
        },
        {
          "name": "stdout",
          "output_type": "stream",
          "text": [
            "Train Loss: 0.1361, Train Acc: 95.26%\n",
            "Test Loss: 0.7090, Test Acc: 82.40%\n",
            "\n",
            "Epoch [65/100]\n",
            "Learning rate: 0.000173\n"
          ]
        },
        {
          "name": "stderr",
          "output_type": "stream",
          "text": [
            "Training: 100%|██████████| 391/391 [01:38<00:00,  3.95it/s, loss=0.13, acc=95.4]\n",
            "Evaluating: 100%|██████████| 79/79 [00:06<00:00, 12.25it/s, loss=0.698, acc=82.7]\n"
          ]
        },
        {
          "name": "stdout",
          "output_type": "stream",
          "text": [
            "Train Loss: 0.1300, Train Acc: 95.39%\n",
            "Test Loss: 0.6979, Test Acc: 82.73%\n",
            "\n",
            "Epoch [66/100]\n",
            "Learning rate: 0.000165\n"
          ]
        },
        {
          "name": "stderr",
          "output_type": "stream",
          "text": [
            "Training: 100%|██████████| 391/391 [01:38<00:00,  3.96it/s, loss=0.127, acc=95.5]\n",
            "Evaluating: 100%|██████████| 79/79 [00:06<00:00, 12.20it/s, loss=0.739, acc=82.3]\n"
          ]
        },
        {
          "name": "stdout",
          "output_type": "stream",
          "text": [
            "Train Loss: 0.1274, Train Acc: 95.45%\n",
            "Test Loss: 0.7392, Test Acc: 82.35%\n",
            "\n",
            "Epoch [67/100]\n",
            "Learning rate: 0.000157\n"
          ]
        },
        {
          "name": "stderr",
          "output_type": "stream",
          "text": [
            "Training: 100%|██████████| 391/391 [01:38<00:00,  3.96it/s, loss=0.116, acc=95.8]\n",
            "Evaluating: 100%|██████████| 79/79 [00:06<00:00, 12.26it/s, loss=0.763, acc=82.3]\n"
          ]
        },
        {
          "name": "stdout",
          "output_type": "stream",
          "text": [
            "Train Loss: 0.1158, Train Acc: 95.76%\n",
            "Test Loss: 0.7627, Test Acc: 82.31%\n",
            "\n",
            "Epoch [68/100]\n",
            "Learning rate: 0.000149\n"
          ]
        },
        {
          "name": "stderr",
          "output_type": "stream",
          "text": [
            "Training: 100%|██████████| 391/391 [01:38<00:00,  3.95it/s, loss=0.11, acc=96.1]\n",
            "Evaluating: 100%|██████████| 79/79 [00:06<00:00, 12.11it/s, loss=0.731, acc=82.9]\n"
          ]
        },
        {
          "name": "stdout",
          "output_type": "stream",
          "text": [
            "Train Loss: 0.1103, Train Acc: 96.09%\n",
            "Test Loss: 0.7311, Test Acc: 82.93%\n",
            "Best model saved! Test Acc: 82.93%\n",
            "\n",
            "Epoch [69/100]\n",
            "Learning rate: 0.000141\n"
          ]
        },
        {
          "name": "stderr",
          "output_type": "stream",
          "text": [
            "Training: 100%|██████████| 391/391 [01:38<00:00,  3.95it/s, loss=0.102, acc=96.4]\n",
            "Evaluating: 100%|██████████| 79/79 [00:06<00:00, 12.27it/s, loss=0.743, acc=83]\n"
          ]
        },
        {
          "name": "stdout",
          "output_type": "stream",
          "text": [
            "Train Loss: 0.1016, Train Acc: 96.39%\n",
            "Test Loss: 0.7429, Test Acc: 83.04%\n",
            "Best model saved! Test Acc: 83.04%\n",
            "\n",
            "Epoch [70/100]\n",
            "Learning rate: 0.000133\n"
          ]
        },
        {
          "name": "stderr",
          "output_type": "stream",
          "text": [
            "Training: 100%|██████████| 391/391 [01:39<00:00,  3.95it/s, loss=0.0971, acc=96.5]\n",
            "Evaluating: 100%|██████████| 79/79 [00:06<00:00, 12.18it/s, loss=0.753, acc=83.1]\n"
          ]
        },
        {
          "name": "stdout",
          "output_type": "stream",
          "text": [
            "Train Loss: 0.0971, Train Acc: 96.47%\n",
            "Test Loss: 0.7534, Test Acc: 83.14%\n",
            "Best model saved! Test Acc: 83.14%\n",
            "\n",
            "Epoch [71/100]\n",
            "Learning rate: 0.000126\n"
          ]
        },
        {
          "name": "stderr",
          "output_type": "stream",
          "text": [
            "Training: 100%|██████████| 391/391 [01:38<00:00,  3.95it/s, loss=0.0938, acc=96.7]\n",
            "Evaluating: 100%|██████████| 79/79 [00:06<00:00, 12.27it/s, loss=0.768, acc=82.7]\n"
          ]
        },
        {
          "name": "stdout",
          "output_type": "stream",
          "text": [
            "Train Loss: 0.0938, Train Acc: 96.65%\n",
            "Test Loss: 0.7676, Test Acc: 82.65%\n",
            "\n",
            "Epoch [72/100]\n",
            "Learning rate: 0.000118\n"
          ]
        },
        {
          "name": "stderr",
          "output_type": "stream",
          "text": [
            "Training: 100%|██████████| 391/391 [01:38<00:00,  3.95it/s, loss=0.0857, acc=96.9]\n",
            "Evaluating: 100%|██████████| 79/79 [00:06<00:00, 12.22it/s, loss=0.748, acc=83.2]\n"
          ]
        },
        {
          "name": "stdout",
          "output_type": "stream",
          "text": [
            "Train Loss: 0.0857, Train Acc: 96.93%\n",
            "Test Loss: 0.7482, Test Acc: 83.17%\n",
            "Best model saved! Test Acc: 83.17%\n",
            "\n",
            "Epoch [73/100]\n",
            "Learning rate: 0.000111\n"
          ]
        },
        {
          "name": "stderr",
          "output_type": "stream",
          "text": [
            "Training: 100%|██████████| 391/391 [01:38<00:00,  3.95it/s, loss=0.0838, acc=97.1]\n",
            "Evaluating: 100%|██████████| 79/79 [00:06<00:00, 12.23it/s, loss=0.752, acc=83.2]\n"
          ]
        },
        {
          "name": "stdout",
          "output_type": "stream",
          "text": [
            "Train Loss: 0.0838, Train Acc: 97.08%\n",
            "Test Loss: 0.7519, Test Acc: 83.23%\n",
            "Best model saved! Test Acc: 83.23%\n",
            "\n",
            "Epoch [74/100]\n",
            "Learning rate: 0.000104\n"
          ]
        },
        {
          "name": "stderr",
          "output_type": "stream",
          "text": [
            "Training: 100%|██████████| 391/391 [01:39<00:00,  3.95it/s, loss=0.0736, acc=97.4]\n",
            "Evaluating: 100%|██████████| 79/79 [00:06<00:00, 12.14it/s, loss=0.783, acc=83.1]\n"
          ]
        },
        {
          "name": "stdout",
          "output_type": "stream",
          "text": [
            "Train Loss: 0.0736, Train Acc: 97.37%\n",
            "Test Loss: 0.7827, Test Acc: 83.08%\n",
            "\n",
            "Epoch [75/100]\n",
            "Learning rate: 0.000097\n"
          ]
        },
        {
          "name": "stderr",
          "output_type": "stream",
          "text": [
            "Training: 100%|██████████| 391/391 [01:38<00:00,  3.95it/s, loss=0.0727, acc=97.5]\n",
            "Evaluating: 100%|██████████| 79/79 [00:06<00:00, 12.24it/s, loss=0.816, acc=82.8]\n"
          ]
        },
        {
          "name": "stdout",
          "output_type": "stream",
          "text": [
            "Train Loss: 0.0727, Train Acc: 97.51%\n",
            "Test Loss: 0.8158, Test Acc: 82.82%\n",
            "\n",
            "Epoch [76/100]\n",
            "Learning rate: 0.000090\n"
          ]
        },
        {
          "name": "stderr",
          "output_type": "stream",
          "text": [
            "Training: 100%|██████████| 391/391 [01:38<00:00,  3.95it/s, loss=0.0678, acc=97.6]\n",
            "Evaluating: 100%|██████████| 79/79 [00:06<00:00, 12.16it/s, loss=0.83, acc=82.8]\n"
          ]
        },
        {
          "name": "stdout",
          "output_type": "stream",
          "text": [
            "Train Loss: 0.0678, Train Acc: 97.55%\n",
            "Test Loss: 0.8299, Test Acc: 82.85%\n",
            "\n",
            "Epoch [77/100]\n",
            "Learning rate: 0.000084\n"
          ]
        },
        {
          "name": "stderr",
          "output_type": "stream",
          "text": [
            "Training: 100%|██████████| 391/391 [01:38<00:00,  3.96it/s, loss=0.0623, acc=97.8]\n",
            "Evaluating: 100%|██████████| 79/79 [00:06<00:00, 12.24it/s, loss=0.848, acc=82.8]\n"
          ]
        },
        {
          "name": "stdout",
          "output_type": "stream",
          "text": [
            "Train Loss: 0.0623, Train Acc: 97.78%\n",
            "Test Loss: 0.8485, Test Acc: 82.83%\n",
            "\n",
            "Epoch [78/100]\n",
            "Learning rate: 0.000077\n"
          ]
        },
        {
          "name": "stderr",
          "output_type": "stream",
          "text": [
            "Training: 100%|██████████| 391/391 [01:38<00:00,  3.96it/s, loss=0.0584, acc=97.9]\n",
            "Evaluating: 100%|██████████| 79/79 [00:06<00:00, 12.09it/s, loss=0.822, acc=83.2]\n"
          ]
        },
        {
          "name": "stdout",
          "output_type": "stream",
          "text": [
            "Train Loss: 0.0584, Train Acc: 97.90%\n",
            "Test Loss: 0.8219, Test Acc: 83.24%\n",
            "Best model saved! Test Acc: 83.24%\n",
            "\n",
            "Epoch [79/100]\n",
            "Learning rate: 0.000071\n"
          ]
        },
        {
          "name": "stderr",
          "output_type": "stream",
          "text": [
            "Training: 100%|██████████| 391/391 [01:38<00:00,  3.96it/s, loss=0.0554, acc=98.1]\n",
            "Evaluating: 100%|██████████| 79/79 [00:06<00:00, 12.27it/s, loss=0.843, acc=83.2]\n"
          ]
        },
        {
          "name": "stdout",
          "output_type": "stream",
          "text": [
            "Train Loss: 0.0554, Train Acc: 98.06%\n",
            "Test Loss: 0.8427, Test Acc: 83.25%\n",
            "Best model saved! Test Acc: 83.25%\n",
            "\n",
            "Epoch [80/100]\n",
            "Learning rate: 0.000065\n"
          ]
        },
        {
          "name": "stderr",
          "output_type": "stream",
          "text": [
            "Training: 100%|██████████| 391/391 [01:38<00:00,  3.96it/s, loss=0.0542, acc=98.1]\n",
            "Evaluating: 100%|██████████| 79/79 [00:06<00:00, 12.16it/s, loss=0.853, acc=83.2]\n"
          ]
        },
        {
          "name": "stdout",
          "output_type": "stream",
          "text": [
            "Train Loss: 0.0542, Train Acc: 98.11%\n",
            "Test Loss: 0.8531, Test Acc: 83.20%\n",
            "\n",
            "Epoch [81/100]\n",
            "Learning rate: 0.000059\n"
          ]
        },
        {
          "name": "stderr",
          "output_type": "stream",
          "text": [
            "Training: 100%|██████████| 391/391 [01:38<00:00,  3.96it/s, loss=0.0497, acc=98.2]\n",
            "Evaluating: 100%|██████████| 79/79 [00:06<00:00, 12.29it/s, loss=0.831, acc=83.7]\n"
          ]
        },
        {
          "name": "stdout",
          "output_type": "stream",
          "text": [
            "Train Loss: 0.0497, Train Acc: 98.24%\n",
            "Test Loss: 0.8307, Test Acc: 83.70%\n",
            "Best model saved! Test Acc: 83.70%\n",
            "\n",
            "Epoch [82/100]\n",
            "Learning rate: 0.000054\n"
          ]
        },
        {
          "name": "stderr",
          "output_type": "stream",
          "text": [
            "Training: 100%|██████████| 391/391 [01:38<00:00,  3.96it/s, loss=0.0457, acc=98.4]\n",
            "Evaluating: 100%|██████████| 79/79 [00:06<00:00, 12.23it/s, loss=0.855, acc=83.2]\n"
          ]
        },
        {
          "name": "stdout",
          "output_type": "stream",
          "text": [
            "Train Loss: 0.0457, Train Acc: 98.42%\n",
            "Test Loss: 0.8546, Test Acc: 83.25%\n",
            "\n",
            "Epoch [83/100]\n",
            "Learning rate: 0.000049\n"
          ]
        },
        {
          "name": "stderr",
          "output_type": "stream",
          "text": [
            "Training: 100%|██████████| 391/391 [01:38<00:00,  3.97it/s, loss=0.044, acc=98.5]\n",
            "Evaluating: 100%|██████████| 79/79 [00:06<00:00, 12.26it/s, loss=0.868, acc=83.3]\n"
          ]
        },
        {
          "name": "stdout",
          "output_type": "stream",
          "text": [
            "Train Loss: 0.0440, Train Acc: 98.48%\n",
            "Test Loss: 0.8678, Test Acc: 83.30%\n",
            "\n",
            "Epoch [84/100]\n",
            "Learning rate: 0.000044\n"
          ]
        },
        {
          "name": "stderr",
          "output_type": "stream",
          "text": [
            "Training: 100%|██████████| 391/391 [01:38<00:00,  3.95it/s, loss=0.0401, acc=98.6]\n",
            "Evaluating: 100%|██████████| 79/79 [00:06<00:00, 12.02it/s, loss=0.875, acc=83.1]\n"
          ]
        },
        {
          "name": "stdout",
          "output_type": "stream",
          "text": [
            "Train Loss: 0.0401, Train Acc: 98.60%\n",
            "Test Loss: 0.8752, Test Acc: 83.14%\n",
            "\n",
            "Epoch [85/100]\n",
            "Learning rate: 0.000039\n"
          ]
        },
        {
          "name": "stderr",
          "output_type": "stream",
          "text": [
            "Training: 100%|██████████| 391/391 [01:38<00:00,  3.95it/s, loss=0.037, acc=98.7]\n",
            "Evaluating: 100%|██████████| 79/79 [00:06<00:00, 12.23it/s, loss=0.874, acc=83.4]\n"
          ]
        },
        {
          "name": "stdout",
          "output_type": "stream",
          "text": [
            "Train Loss: 0.0370, Train Acc: 98.66%\n",
            "Test Loss: 0.8742, Test Acc: 83.41%\n",
            "\n",
            "Epoch [86/100]\n",
            "Learning rate: 0.000034\n"
          ]
        },
        {
          "name": "stderr",
          "output_type": "stream",
          "text": [
            "Training: 100%|██████████| 391/391 [01:38<00:00,  3.95it/s, loss=0.0337, acc=98.8]\n",
            "Evaluating: 100%|██████████| 79/79 [00:06<00:00, 12.10it/s, loss=0.879, acc=83.8]\n"
          ]
        },
        {
          "name": "stdout",
          "output_type": "stream",
          "text": [
            "Train Loss: 0.0337, Train Acc: 98.85%\n",
            "Test Loss: 0.8791, Test Acc: 83.81%\n",
            "Best model saved! Test Acc: 83.81%\n",
            "\n",
            "Epoch [87/100]\n",
            "Learning rate: 0.000030\n"
          ]
        },
        {
          "name": "stderr",
          "output_type": "stream",
          "text": [
            "Training: 100%|██████████| 391/391 [01:38<00:00,  3.96it/s, loss=0.0338, acc=98.9]\n",
            "Evaluating: 100%|██████████| 79/79 [00:06<00:00, 12.27it/s, loss=0.898, acc=83.5]\n"
          ]
        },
        {
          "name": "stdout",
          "output_type": "stream",
          "text": [
            "Train Loss: 0.0338, Train Acc: 98.89%\n",
            "Test Loss: 0.8980, Test Acc: 83.51%\n",
            "\n",
            "Epoch [88/100]\n",
            "Learning rate: 0.000026\n"
          ]
        },
        {
          "name": "stderr",
          "output_type": "stream",
          "text": [
            "Training: 100%|██████████| 391/391 [01:39<00:00,  3.94it/s, loss=0.0319, acc=98.9]\n",
            "Evaluating: 100%|██████████| 79/79 [00:06<00:00, 12.12it/s, loss=0.899, acc=83.5]\n"
          ]
        },
        {
          "name": "stdout",
          "output_type": "stream",
          "text": [
            "Train Loss: 0.0319, Train Acc: 98.90%\n",
            "Test Loss: 0.8991, Test Acc: 83.50%\n",
            "\n",
            "Epoch [89/100]\n",
            "Learning rate: 0.000023\n"
          ]
        },
        {
          "name": "stderr",
          "output_type": "stream",
          "text": [
            "Training: 100%|██████████| 391/391 [01:38<00:00,  3.96it/s, loss=0.0322, acc=98.9]\n",
            "Evaluating: 100%|██████████| 79/79 [00:06<00:00, 12.19it/s, loss=0.9, acc=83.5]\n"
          ]
        },
        {
          "name": "stdout",
          "output_type": "stream",
          "text": [
            "Train Loss: 0.0322, Train Acc: 98.94%\n",
            "Test Loss: 0.9003, Test Acc: 83.50%\n",
            "\n",
            "Epoch [90/100]\n",
            "Learning rate: 0.000019\n"
          ]
        },
        {
          "name": "stderr",
          "output_type": "stream",
          "text": [
            "Training: 100%|██████████| 391/391 [01:38<00:00,  3.95it/s, loss=0.0289, acc=99]\n",
            "Evaluating: 100%|██████████| 79/79 [00:06<00:00, 12.11it/s, loss=0.913, acc=83.7]\n"
          ]
        },
        {
          "name": "stdout",
          "output_type": "stream",
          "text": [
            "Train Loss: 0.0289, Train Acc: 99.00%\n",
            "Test Loss: 0.9130, Test Acc: 83.66%\n",
            "\n",
            "Epoch [91/100]\n",
            "Learning rate: 0.000016\n"
          ]
        },
        {
          "name": "stderr",
          "output_type": "stream",
          "text": [
            "Training: 100%|██████████| 391/391 [01:38<00:00,  3.95it/s, loss=0.0271, acc=99.1]\n",
            "Evaluating: 100%|██████████| 79/79 [00:06<00:00, 12.26it/s, loss=0.914, acc=83.7]\n"
          ]
        },
        {
          "name": "stdout",
          "output_type": "stream",
          "text": [
            "Train Loss: 0.0271, Train Acc: 99.10%\n",
            "Test Loss: 0.9140, Test Acc: 83.67%\n",
            "\n",
            "Epoch [92/100]\n",
            "Learning rate: 0.000013\n"
          ]
        },
        {
          "name": "stderr",
          "output_type": "stream",
          "text": [
            "Training: 100%|██████████| 391/391 [01:38<00:00,  3.95it/s, loss=0.0274, acc=99.1]\n",
            "Evaluating: 100%|██████████| 79/79 [00:06<00:00, 12.10it/s, loss=0.92, acc=83.5]\n"
          ]
        },
        {
          "name": "stdout",
          "output_type": "stream",
          "text": [
            "Train Loss: 0.0274, Train Acc: 99.07%\n",
            "Test Loss: 0.9195, Test Acc: 83.48%\n",
            "\n",
            "Epoch [93/100]\n",
            "Learning rate: 0.000011\n"
          ]
        },
        {
          "name": "stderr",
          "output_type": "stream",
          "text": [
            "Training: 100%|██████████| 391/391 [01:38<00:00,  3.96it/s, loss=0.0253, acc=99.1]\n",
            "Evaluating: 100%|██████████| 79/79 [00:06<00:00, 12.24it/s, loss=0.914, acc=83.8]\n"
          ]
        },
        {
          "name": "stdout",
          "output_type": "stream",
          "text": [
            "Train Loss: 0.0253, Train Acc: 99.09%\n",
            "Test Loss: 0.9145, Test Acc: 83.80%\n",
            "\n",
            "Epoch [94/100]\n",
            "Learning rate: 0.000008\n"
          ]
        },
        {
          "name": "stderr",
          "output_type": "stream",
          "text": [
            "Training: 100%|██████████| 391/391 [01:38<00:00,  3.95it/s, loss=0.0259, acc=99.1]\n",
            "Evaluating: 100%|██████████| 79/79 [00:06<00:00, 12.08it/s, loss=0.915, acc=83.8]\n"
          ]
        },
        {
          "name": "stdout",
          "output_type": "stream",
          "text": [
            "Train Loss: 0.0259, Train Acc: 99.10%\n",
            "Test Loss: 0.9146, Test Acc: 83.75%\n",
            "\n",
            "Epoch [95/100]\n",
            "Learning rate: 0.000006\n"
          ]
        },
        {
          "name": "stderr",
          "output_type": "stream",
          "text": [
            "Training: 100%|██████████| 391/391 [01:38<00:00,  3.95it/s, loss=0.0222, acc=99.2]\n",
            "Evaluating: 100%|██████████| 79/79 [00:06<00:00, 12.25it/s, loss=0.915, acc=83.7]\n"
          ]
        },
        {
          "name": "stdout",
          "output_type": "stream",
          "text": [
            "Train Loss: 0.0222, Train Acc: 99.23%\n",
            "Test Loss: 0.9149, Test Acc: 83.67%\n",
            "\n",
            "Epoch [96/100]\n",
            "Learning rate: 0.000005\n"
          ]
        },
        {
          "name": "stderr",
          "output_type": "stream",
          "text": [
            "Training: 100%|██████████| 391/391 [01:38<00:00,  3.95it/s, loss=0.0246, acc=99.2]\n",
            "Evaluating: 100%|██████████| 79/79 [00:06<00:00, 12.09it/s, loss=0.917, acc=83.8]\n"
          ]
        },
        {
          "name": "stdout",
          "output_type": "stream",
          "text": [
            "Train Loss: 0.0246, Train Acc: 99.19%\n",
            "Test Loss: 0.9175, Test Acc: 83.81%\n",
            "\n",
            "Epoch [97/100]\n",
            "Learning rate: 0.000003\n"
          ]
        },
        {
          "name": "stderr",
          "output_type": "stream",
          "text": [
            "Training: 100%|██████████| 391/391 [01:38<00:00,  3.95it/s, loss=0.0238, acc=99.2]\n",
            "Evaluating: 100%|██████████| 79/79 [00:06<00:00, 12.23it/s, loss=0.914, acc=83.8]\n"
          ]
        },
        {
          "name": "stdout",
          "output_type": "stream",
          "text": [
            "Train Loss: 0.0238, Train Acc: 99.16%\n",
            "Test Loss: 0.9138, Test Acc: 83.81%\n",
            "\n",
            "Epoch [98/100]\n",
            "Learning rate: 0.000002\n"
          ]
        },
        {
          "name": "stderr",
          "output_type": "stream",
          "text": [
            "Training: 100%|██████████| 391/391 [01:38<00:00,  3.95it/s, loss=0.0233, acc=99.2]\n",
            "Evaluating: 100%|██████████| 79/79 [00:06<00:00, 12.13it/s, loss=0.918, acc=83.9]\n"
          ]
        },
        {
          "name": "stdout",
          "output_type": "stream",
          "text": [
            "Train Loss: 0.0233, Train Acc: 99.21%\n",
            "Test Loss: 0.9177, Test Acc: 83.88%\n",
            "Best model saved! Test Acc: 83.88%\n",
            "\n",
            "Epoch [99/100]\n",
            "Learning rate: 0.000002\n"
          ]
        },
        {
          "name": "stderr",
          "output_type": "stream",
          "text": [
            "Training: 100%|██████████| 391/391 [01:39<00:00,  3.95it/s, loss=0.0221, acc=99.2]\n",
            "Evaluating: 100%|██████████| 79/79 [00:06<00:00, 12.26it/s, loss=0.918, acc=83.9]\n"
          ]
        },
        {
          "name": "stdout",
          "output_type": "stream",
          "text": [
            "Train Loss: 0.0221, Train Acc: 99.19%\n",
            "Test Loss: 0.9182, Test Acc: 83.90%\n",
            "Best model saved! Test Acc: 83.90%\n",
            "\n",
            "Epoch [100/100]\n",
            "Learning rate: 0.000001\n"
          ]
        },
        {
          "name": "stderr",
          "output_type": "stream",
          "text": [
            "Training: 100%|██████████| 391/391 [01:39<00:00,  3.95it/s, loss=0.0219, acc=99.3]\n",
            "Evaluating: 100%|██████████| 79/79 [00:06<00:00, 12.12it/s, loss=0.919, acc=83.8]"
          ]
        },
        {
          "name": "stdout",
          "output_type": "stream",
          "text": [
            "Train Loss: 0.0219, Train Acc: 99.28%\n",
            "Test Loss: 0.9188, Test Acc: 83.83%\n",
            "\n",
            "Training completed! Best Test Accuracy: 83.90%\n"
          ]
        },
        {
          "name": "stderr",
          "output_type": "stream",
          "text": [
            "\n"
          ]
        }
      ],
      "source": [
        "#@title 8. Training Loop\n",
        "print(\"=\"*60)\n",
        "print(\"STEP 7: TRAINING THE MODEL\")\n",
        "print(\"=\"*60)\n",
        "\n",
        "# Training history\n",
        "history = {\n",
        "    'train_loss': [],\n",
        "    'train_acc': [],\n",
        "    'test_loss': [],\n",
        "    'test_acc': [],\n",
        "    'lr': []\n",
        "}\n",
        "\n",
        "best_acc = 0.0\n",
        "\n",
        "for epoch in range(num_epochs):\n",
        "    print(f\"\\nEpoch [{epoch+1}/{num_epochs}]\")\n",
        "\n",
        "    current_lr = scheduler.step(epoch)\n",
        "    print(f\"Learning rate: {current_lr:.6f}\")\n",
        "\n",
        "    train_loss, train_acc = train_epoch(model, trainloader, criterion, optimizer, device)\n",
        "    test_loss, test_acc = evaluate(model, testloader, criterion, device)\n",
        "\n",
        "    history['train_loss'].append(train_loss)\n",
        "    history['train_acc'].append(train_acc)\n",
        "    history['test_loss'].append(test_loss)\n",
        "    history['test_acc'].append(test_acc)\n",
        "    history['lr'].append(current_lr)\n",
        "\n",
        "    print(f\"Train Loss: {train_loss:.4f}, Train Acc: {train_acc:.2f}%\")\n",
        "    print(f\"Test Loss: {test_loss:.4f}, Test Acc: {test_acc:.2f}%\")\n",
        "\n",
        "    if test_acc > best_acc:\n",
        "        best_acc = test_acc\n",
        "        torch.save(model.state_dict(), 'best_vit_cifar10.pth')\n",
        "        print(f\"Best model saved! Test Acc: {best_acc:.2f}%\")\n",
        "\n",
        "print(f\"\\nTraining completed! Best Test Accuracy: {best_acc:.2f}%\")"
      ]
    },
    {
      "cell_type": "code",
      "execution_count": 27,
      "metadata": {
        "colab": {
          "base_uri": "https://localhost:8080/",
          "height": 1000
        },
        "id": "QN3N51QNpAsg",
        "outputId": "3a7c477d-541d-4ae9-f3e6-246cffc21a60"
      },
      "outputs": [
        {
          "name": "stdout",
          "output_type": "stream",
          "text": [
            "============================================================\n",
            "STEP 8: VISUALIZING RESULTS AND ANALYSIS\n",
            "============================================================\n"
          ]
        },
        {
          "data": {
            "image/png": "[encoded data removed]",
            "text/plain": [
              "<Figure size 1200x1000 with 4 Axes>"
            ]
          },
          "metadata": {},
          "output_type": "display_data"
        }
      ],
      "source": [
        "#@title 9. Visualization of Training Results\n",
        "print(\"=\"*60)\n",
        "print(\"STEP 8: VISUALIZING RESULTS AND ANALYSIS\")\n",
        "print(\"=\"*60)\n",
        "\n",
        "# Plot training history\n",
        "fig, axes = plt.subplots(2, 2, figsize=(12, 10))\n",
        "fig.suptitle('Vision Transformer Training Analysis', fontsize=16)\n",
        "\n",
        "\n",
        "# Loss plot\n",
        "axes[0, 0].plot(history['train_loss'], label='Train Loss')\n",
        "axes[0, 0].plot(history['test_loss'], label='Test Loss')\n",
        "axes[0, 0].set_xlabel('Epoch')\n",
        "axes[0, 0].set_ylabel('Loss')\n",
        "axes[0, 0].set_title('Training and Test Loss')\n",
        "axes[0, 0].legend()\n",
        "axes[0, 0].grid(True)\n",
        "\n",
        "# Accuracy plot\n",
        "axes[0, 1].plot(history['train_acc'], label='Train Acc')\n",
        "axes[0, 1].plot(history['test_acc'], label='Test Acc')\n",
        "axes[0, 1].set_xlabel('Epoch')\n",
        "axes[0, 1].set_ylabel('Accuracy (%)')\n",
        "axes[0, 1].set_title('Training and Test Accuracy')\n",
        "axes[0, 1].legend()\n",
        "axes[0, 1].grid(True)\n",
        "\n",
        "# Learning rate plot\n",
        "axes[1, 0].plot(history['lr'])\n",
        "axes[1, 0].set_xlabel('Epoch')\n",
        "axes[1, 0].set_ylabel('Learning Rate')\n",
        "axes[1, 0].set_title('Learning Rate Schedule')\n",
        "axes[1, 0].grid(True)\n",
        "\n",
        "# Final accuracies bar plot\n",
        "final_accs = [history['train_acc'][-1], history['test_acc'][-1], best_acc]\n",
        "axes[1, 1].bar(['Train', 'Test', 'Best Test'], final_accs, color=['#1f77b4', '#ff7f0e', '#2ca02c'])\n",
        "axes[1, 1].set_ylabel('Accuracy (%)')\n",
        "axes[1, 1].set_title('Final Accuracies')\n",
        "axes[1, 1].set_ylim([0, 100])\n",
        "for i, v in enumerate(final_accs):\n",
        "    axes[1, 1].text(i, v + 1, f'{v:.2f}%', ha='center')\n",
        "\n",
        "plt.tight_layout(rect=[0, 0.03, 1, 0.95])\n",
        "plt.show()"
      ]
    },
    {
      "cell_type": "code",
      "execution_count": 28,
      "metadata": {
        "colab": {
          "base_uri": "https://localhost:8080/"
        },
        "id": "URm4nPx_pHBf",
        "outputId": "fab11950-0c3b-4398-ca9d-0bedfbaab5d4"
      },
      "outputs": [
        {
          "name": "stdout",
          "output_type": "stream",
          "text": [
            "============================================================\n",
            "STEP 9: ABLATION STUDIES AND PERFORMANCE ANALYSIS\n",
            "============================================================\n",
            "\n",
            "Model Configuration Analysis:\n",
            "--------------------------------------------------\n",
            "Baseline (P4, D12, E192)       | Params:  5,362,762 | Patches:   64\n",
            "Larger Patches (P8)            | Params:  5,381,194 | Patches:   16\n",
            "Smaller Patches (P2)           | Params:  5,392,714 | Patches:  256\n",
            "Shallow (D6)                   | Params:  2,693,578 | Patches:   64\n",
            "Deep (D16)                     | Params:  7,142,218 | Patches:   64\n",
            "Narrow (E128)                  | Params:  2,395,530 | Patches:   64\n",
            "Wide (E256)                    | Params:  9,509,642 | Patches:   64\n"
          ]
        }
      ],
      "source": [
        "#@title 10. Ablation Studies and Analysis\n",
        "print(\"=\"*60)\n",
        "print(\"STEP 9: ABLATION STUDIES AND PERFORMANCE ANALYSIS\")\n",
        "print(\"=\"*60)\n",
        "\n",
        "def create_small_vit(patch_size, depth, embed_dim):\n",
        "    \"\"\"Create a smaller ViT for ablation studies.\"\"\"\n",
        "    config_small = config.copy()\n",
        "    config_small['patch_size'] = patch_size\n",
        "    config_small['depth'] = depth\n",
        "    config_small['embed_dim'] = embed_dim\n",
        "    # We don't need to move to device for just counting params\n",
        "    return VisionTransformer(**config_small)\n",
        "\n",
        "# Analyze different configurations\n",
        "print(\"\\nModel Configuration Analysis:\")\n",
        "print(\"-\" * 50)\n",
        "\n",
        "configs_to_test = [\n",
        "    {'name': 'Baseline (P4, D12, E192)', 'patch_size': 4, 'depth': 12, 'embed_dim': 192},\n",
        "    {'name': 'Larger Patches (P8)', 'patch_size': 8, 'depth': 12, 'embed_dim': 192},\n",
        "    {'name': 'Smaller Patches (P2)', 'patch_size': 2, 'depth': 12, 'embed_dim': 192},\n",
        "    {'name': 'Shallow (D6)', 'patch_size': 4, 'depth': 6, 'embed_dim': 192},\n",
        "    {'name': 'Deep (D16)', 'patch_size': 4, 'depth': 16, 'embed_dim': 192},\n",
        "    {'name': 'Narrow (E128)', 'patch_size': 4, 'depth': 12, 'embed_dim': 128},\n",
        "    {'name': 'Wide (E256)', 'patch_size': 4, 'depth': 12, 'embed_dim': 256},\n",
        "]\n",
        "\n",
        "for cfg in configs_to_test:\n",
        "    model_test = create_small_vit(cfg['patch_size'], cfg['depth'], cfg['embed_dim'])\n",
        "    params = sum(p.numel() for p in model_test.parameters())\n",
        "    num_patches = (32 // cfg['patch_size']) ** 2\n",
        "    print(f\"{cfg['name']:<30} | Params: {params:>10,} | Patches: {num_patches:>4}\")"
      ]
    },
    {
      "cell_type": "code",
      "execution_count": 29,
      "metadata": {
        "colab": {
          "base_uri": "https://localhost:8080/",
          "height": 1000
        },
        "id": "HA0bThtzpL38",
        "outputId": "aad5e5d6-3f0a-43c2-b67e-6256aa5fab7b"
      },
      "outputs": [
        {
          "name": "stdout",
          "output_type": "stream",
          "text": [
            "============================================================\n",
            "STEP 11: DETAILED FINAL EVALUATION\n",
            "============================================================\n"
          ]
        },
        {
          "name": "stderr",
          "output_type": "stream",
          "text": [
            "Computing predictions: 100%|██████████| 79/79 [00:06<00:00, 12.35it/s]\n"
          ]
        },
        {
          "data": {
            "image/png": "[encoded data removed]",
            "text/plain": [
              "<Figure size 1000x800 with 2 Axes>"
            ]
          },
          "metadata": {},
          "output_type": "display_data"
        },
        {
          "name": "stdout",
          "output_type": "stream",
          "text": [
            "\n",
            "Per-Class Accuracy:\n",
            "------------------------------\n",
            "plane     : 86.50%\n",
            "car       : 92.70%\n",
            "bird      : 82.30%\n",
            "cat       : 66.80%\n",
            "deer      : 80.70%\n",
            "dog       : 75.00%\n",
            "frog      : 87.10%\n",
            "horse     : 87.40%\n",
            "ship      : 90.80%\n",
            "truck     : 89.70%\n",
            "\n",
            "Overall Test Accuracy: 83.90%\n"
          ]
        }
      ],
      "source": [
        "#@title 12. Final Evaluation (Confusion Matrix & Per-Class Accuracy)\n",
        "print(\"=\"*60)\n",
        "print(\"STEP 11: DETAILED FINAL EVALUATION\")\n",
        "print(\"=\"*60)\n",
        "\n",
        "# Load best model\n",
        "# Re-initialize model architecture and load state_dict\n",
        "model = VisionTransformer(**config).to(device)\n",
        "model.load_state_dict(torch.load('best_vit_cifar10.pth'))\n",
        "model.eval()\n",
        "\n",
        "# Compute confusion matrix\n",
        "from sklearn.metrics import confusion_matrix\n",
        "import seaborn as sns\n",
        "\n",
        "all_predictions = []\n",
        "all_targets = []\n",
        "\n",
        "with torch.no_grad():\n",
        "    for inputs, targets in tqdm(testloader, desc='Computing predictions'):\n",
        "        inputs = inputs.to(device)\n",
        "        outputs = model(inputs)\n",
        "        _, predicted = outputs.max(1)\n",
        "        all_predictions.extend(predicted.cpu().numpy())\n",
        "        all_targets.extend(targets.numpy())\n",
        "\n",
        "# Create confusion matrix\n",
        "cm = confusion_matrix(all_targets, all_predictions)\n",
        "\n",
        "# Plot confusion matrix\n",
        "plt.figure(figsize=(10, 8))\n",
        "sns.heatmap(cm, annot=True, fmt='d', cmap='Blues',\n",
        "            xticklabels=classes, yticklabels=classes)\n",
        "plt.title('Confusion Matrix - Best Model')\n",
        "plt.xlabel('Predicted')\n",
        "plt.ylabel('Actual')\n",
        "plt.show()\n",
        "\n",
        "# Per-class accuracy\n",
        "class_correct = list(0. for i in range(10))\n",
        "class_total = list(0. for i in range(10))\n",
        "\n",
        "with torch.no_grad():\n",
        "    for data in testloader:\n",
        "        images, labels = data\n",
        "        images, labels = images.to(device), labels.to(device)\n",
        "        outputs = model(images)\n",
        "        _, predicted = torch.max(outputs, 1)\n",
        "        c = (predicted == labels).squeeze()\n",
        "        for i in range(labels.size(0)):\n",
        "            label = labels[i]\n",
        "            class_correct[label] += c[i].item()\n",
        "            class_total[label] += 1\n",
        "\n",
        "print(\"\\nPer-Class Accuracy:\")\n",
        "print(\"-\" * 30)\n",
        "for i in range(10):\n",
        "    accuracy = 100 * class_correct[i] / class_total[i]\n",
        "    print(f'{classes[i]:<10}: {accuracy:.2f}%')\n",
        "\n",
        "overall_accuracy = 100 * sum(class_correct) / sum(class_total)\n",
        "print(f'\\nOverall Test Accuracy: {overall_accuracy:.2f}%')"
      ]
    },
    {
      "cell_type": "markdown",
      "metadata": {
        "id": "jDJUrCv_YjvX"
      },
      "source": [
        "# Performance Improvements and Key Insights\n",
        "## Implemented Performance Improvements:\n",
        "1. Data Augmentation:\n",
        "\n",
        "- Random cropping with padding\n",
        "\n",
        "- Random horizontal flipping\n",
        "\n",
        "- Normalization with CIFAR-10 statistics\n",
        "\n",
        "2. Architecture Optimizations:\n",
        "\n",
        "- Patch size of 4x4 (good balance for 32x32 images)\n",
        "\n",
        "- Depth of 12 transformer blocks\n",
        "\n",
        "- Embedding dimension of 256 (scaled for CIFAR-10)\n",
        "\n",
        "- 16 attention heads for multi-head attention\n",
        "\n",
        "3. Training Techniques:\n",
        "\n",
        "- AdamW optimizer with weight decay (0.05)\n",
        "\n",
        "- Cosine annealing learning rate schedule with warmup\n",
        "\n",
        "- Gradient clipping (max norm = 1.0)\n",
        "\n",
        "- Dropout and embedding dropout for regularization\n",
        "\n",
        "## Potential Further Improvements:\n",
        "- MixUp or CutMix augmentation\n",
        "\n",
        "- Label smoothing\n",
        "\n",
        "- Stochastic depth (DropPath)\n",
        "\n",
        "- Distillation from a larger model\n",
        "\n",
        "- Ensemble multiple models\n",
        "\n",
        "## Key Insights:\n",
        "- Patch Size Trade-off: Smaller patches (2x2) give more fine-grained features but increase computation. Larger patches (8x8) are faster but may lose detail.\n",
        "\n",
        "- Depth vs Width: Deeper models (more layers) can learn more complex representations but are harder to train. Wider models (larger embed_dim) have more capacity but require more data.\n",
        "\n",
        "- Position Embeddings: Learnable position embeddings allow the model to understand spatial relationships between patches, crucial for vision tasks.\n",
        "\n",
        "- CLS Token: The prepended CLS token aggregates information from all patches through self-attention, providing a global representation for classification"
      ]
    }
  ],
  "metadata": {
    "accelerator": "GPU",
    "colab": {
      "gpuType": "T4",
      "provenance": []
    },
    "kernelspec": {
      "display_name": "Python 3",
      "name": "python3"
    },
    "language_info": {
      "name": "python"
    }
  },
  "nbformat": 4,
  "nbformat_minor": 0
}
